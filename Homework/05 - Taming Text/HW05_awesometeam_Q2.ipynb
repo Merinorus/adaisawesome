{
 "cells": [
  {
   "cell_type": "markdown",
   "metadata": {},
   "source": [
    "Question 2) Find all the mentions of world countries in the whole corpus, \n",
    "using the pycountry utility (HINT: remember that there will be different surface forms \n",
    "for the same country in the text, e.g., Switzerland, switzerland, CH, etc.) \n",
    "Perform sentiment analysis on every email message using the demo methods \n",
    "in the nltk.sentiment.util module. Aggregate the polarity information of all \n",
    "the emails by country, and plot a histogram (ordered and colored by polarity level) \n",
    "that summarizes the perception of the different countries. Repeat the aggregation and plotting steps using different demo methods from the sentiment analysis module.\n",
    "Can you find substantial differences?"
   ]
  },
  {
   "cell_type": "code",
   "execution_count": 51,
   "metadata": {
    "collapsed": false
   },
   "outputs": [],
   "source": [
    "import pandas as pd\n",
    "import pycountry\n",
    "from nltk.sentiment import *\n",
    "import numpy as np\n",
    "import matplotlib.pyplot as plt\n",
    "import codecs\n",
    "import math\n",
    "import re\n",
    "import string\n",
    "\n"
   ]
  },
  {
   "cell_type": "markdown",
   "metadata": {},
   "source": [
    "Pre Process the Data, Dropping Irrelevant Columns"
   ]
  },
  {
   "cell_type": "code",
   "execution_count": 118,
   "metadata": {
    "collapsed": false
   },
   "outputs": [],
   "source": [
    "emails = pd.read_csv(\"hillary-clinton-emails/Emails.csv\")\n"
   ]
  },
  {
   "cell_type": "code",
   "execution_count": 119,
   "metadata": {
    "collapsed": false
   },
   "outputs": [
    {
     "data": {
      "text/html": [
       "<div>\n",
       "<table border=\"1\" class=\"dataframe\">\n",
       "  <thead>\n",
       "    <tr style=\"text-align: right;\">\n",
       "      <th></th>\n",
       "      <th>Id</th>\n",
       "      <th>MetadataSubject</th>\n",
       "      <th>MetadataTo</th>\n",
       "      <th>MetadataFrom</th>\n",
       "      <th>SenderPersonId</th>\n",
       "      <th>MetadataDateSent</th>\n",
       "      <th>MetadataDateReleased</th>\n",
       "      <th>MetadataDocumentClass</th>\n",
       "      <th>ExtractedSubject</th>\n",
       "      <th>ExtractedTo</th>\n",
       "      <th>ExtractedFrom</th>\n",
       "      <th>ExtractedCc</th>\n",
       "      <th>ExtractedDateSent</th>\n",
       "      <th>ExtractedCaseNumber</th>\n",
       "      <th>ExtractedDateReleased</th>\n",
       "      <th>ExtractedReleaseInPartOrFull</th>\n",
       "      <th>ExtractedBodyText</th>\n",
       "      <th>RawText</th>\n",
       "    </tr>\n",
       "  </thead>\n",
       "  <tbody>\n",
       "    <tr>\n",
       "      <th>0</th>\n",
       "      <td>1</td>\n",
       "      <td>WOW</td>\n",
       "      <td>H</td>\n",
       "      <td>Sullivan, Jacob J</td>\n",
       "      <td>87.0</td>\n",
       "      <td>2012-09-12T04:00:00+00:00</td>\n",
       "      <td>2015-05-22T04:00:00+00:00</td>\n",
       "      <td>HRC_Email_296</td>\n",
       "      <td>FW: Wow</td>\n",
       "      <td>NaN</td>\n",
       "      <td>Sullivan, Jacob J &lt;Sullivan11@state.gov&gt;</td>\n",
       "      <td>NaN</td>\n",
       "      <td>Wednesday, September 12, 2012 10:16 AM</td>\n",
       "      <td>F-2015-04841</td>\n",
       "      <td>05/13/2015</td>\n",
       "      <td>RELEASE IN FULL</td>\n",
       "      <td>NaN</td>\n",
       "      <td>UNCLASSIFIED\\nU.S. Department of State\\nCase N...</td>\n",
       "    </tr>\n",
       "    <tr>\n",
       "      <th>1</th>\n",
       "      <td>2</td>\n",
       "      <td>H: LATEST: HOW SYRIA IS AIDING QADDAFI AND MOR...</td>\n",
       "      <td>H</td>\n",
       "      <td>NaN</td>\n",
       "      <td>NaN</td>\n",
       "      <td>2011-03-03T05:00:00+00:00</td>\n",
       "      <td>2015-05-22T04:00:00+00:00</td>\n",
       "      <td>HRC_Email_296</td>\n",
       "      <td>NaN</td>\n",
       "      <td>NaN</td>\n",
       "      <td>NaN</td>\n",
       "      <td>NaN</td>\n",
       "      <td>NaN</td>\n",
       "      <td>F-2015-04841</td>\n",
       "      <td>05/13/2015</td>\n",
       "      <td>RELEASE IN PART</td>\n",
       "      <td>B6\\nThursday, March 3, 2011 9:45 PM\\nH: Latest...</td>\n",
       "      <td>UNCLASSIFIED\\nU.S. Department of State\\nCase N...</td>\n",
       "    </tr>\n",
       "    <tr>\n",
       "      <th>2</th>\n",
       "      <td>3</td>\n",
       "      <td>CHRIS STEVENS</td>\n",
       "      <td>;H</td>\n",
       "      <td>Mills, Cheryl D</td>\n",
       "      <td>32.0</td>\n",
       "      <td>2012-09-12T04:00:00+00:00</td>\n",
       "      <td>2015-05-22T04:00:00+00:00</td>\n",
       "      <td>HRC_Email_296</td>\n",
       "      <td>Re: Chris Stevens</td>\n",
       "      <td>B6</td>\n",
       "      <td>Mills, Cheryl D &lt;MillsCD@state.gov&gt;</td>\n",
       "      <td>Abedin, Huma</td>\n",
       "      <td>Wednesday, September 12, 2012 11:52 AM</td>\n",
       "      <td>F-2015-04841</td>\n",
       "      <td>05/14/2015</td>\n",
       "      <td>RELEASE IN PART</td>\n",
       "      <td>Thx</td>\n",
       "      <td>UNCLASSIFIED\\nU.S. Department of State\\nCase N...</td>\n",
       "    </tr>\n",
       "    <tr>\n",
       "      <th>3</th>\n",
       "      <td>4</td>\n",
       "      <td>CAIRO CONDEMNATION - FINAL</td>\n",
       "      <td>H</td>\n",
       "      <td>Mills, Cheryl D</td>\n",
       "      <td>32.0</td>\n",
       "      <td>2012-09-12T04:00:00+00:00</td>\n",
       "      <td>2015-05-22T04:00:00+00:00</td>\n",
       "      <td>HRC_Email_296</td>\n",
       "      <td>FVV: Cairo Condemnation - Final</td>\n",
       "      <td>NaN</td>\n",
       "      <td>Mills, Cheryl D &lt;MillsCD@state.gov&gt;</td>\n",
       "      <td>Mitchell, Andrew B</td>\n",
       "      <td>Wednesday, September 12,2012 12:44 PM</td>\n",
       "      <td>F-2015-04841</td>\n",
       "      <td>05/13/2015</td>\n",
       "      <td>RELEASE IN PART</td>\n",
       "      <td>NaN</td>\n",
       "      <td>UNCLASSIFIED\\nU.S. Department of State\\nCase N...</td>\n",
       "    </tr>\n",
       "    <tr>\n",
       "      <th>4</th>\n",
       "      <td>5</td>\n",
       "      <td>H: LATEST: HOW SYRIA IS AIDING QADDAFI AND MOR...</td>\n",
       "      <td>Abedin, Huma</td>\n",
       "      <td>H</td>\n",
       "      <td>80.0</td>\n",
       "      <td>2011-03-11T05:00:00+00:00</td>\n",
       "      <td>2015-05-22T04:00:00+00:00</td>\n",
       "      <td>HRC_Email_296</td>\n",
       "      <td>NaN</td>\n",
       "      <td>NaN</td>\n",
       "      <td>NaN</td>\n",
       "      <td>NaN</td>\n",
       "      <td>NaN</td>\n",
       "      <td>F-2015-04841</td>\n",
       "      <td>05/13/2015</td>\n",
       "      <td>RELEASE IN PART</td>\n",
       "      <td>H &lt;hrod17@clintonemail.com&gt;\\nFriday, March 11,...</td>\n",
       "      <td>B6\\nUNCLASSIFIED\\nU.S. Department of State\\nCa...</td>\n",
       "    </tr>\n",
       "  </tbody>\n",
       "</table>\n",
       "</div>"
      ],
      "text/plain": [
       "   Id                                    MetadataSubject    MetadataTo  \\\n",
       "0   1                                                WOW             H   \n",
       "1   2  H: LATEST: HOW SYRIA IS AIDING QADDAFI AND MOR...             H   \n",
       "2   3                                      CHRIS STEVENS            ;H   \n",
       "3   4                         CAIRO CONDEMNATION - FINAL             H   \n",
       "4   5  H: LATEST: HOW SYRIA IS AIDING QADDAFI AND MOR...  Abedin, Huma   \n",
       "\n",
       "        MetadataFrom  SenderPersonId           MetadataDateSent  \\\n",
       "0  Sullivan, Jacob J            87.0  2012-09-12T04:00:00+00:00   \n",
       "1                NaN             NaN  2011-03-03T05:00:00+00:00   \n",
       "2    Mills, Cheryl D            32.0  2012-09-12T04:00:00+00:00   \n",
       "3    Mills, Cheryl D            32.0  2012-09-12T04:00:00+00:00   \n",
       "4                  H            80.0  2011-03-11T05:00:00+00:00   \n",
       "\n",
       "        MetadataDateReleased MetadataDocumentClass  \\\n",
       "0  2015-05-22T04:00:00+00:00         HRC_Email_296   \n",
       "1  2015-05-22T04:00:00+00:00         HRC_Email_296   \n",
       "2  2015-05-22T04:00:00+00:00         HRC_Email_296   \n",
       "3  2015-05-22T04:00:00+00:00         HRC_Email_296   \n",
       "4  2015-05-22T04:00:00+00:00         HRC_Email_296   \n",
       "\n",
       "                  ExtractedSubject ExtractedTo  \\\n",
       "0                          FW: Wow         NaN   \n",
       "1                              NaN         NaN   \n",
       "2                Re: Chris Stevens          B6   \n",
       "3  FVV: Cairo Condemnation - Final         NaN   \n",
       "4                              NaN         NaN   \n",
       "\n",
       "                              ExtractedFrom         ExtractedCc  \\\n",
       "0  Sullivan, Jacob J <Sullivan11@state.gov>                 NaN   \n",
       "1                                       NaN                 NaN   \n",
       "2       Mills, Cheryl D <MillsCD@state.gov>        Abedin, Huma   \n",
       "3       Mills, Cheryl D <MillsCD@state.gov>  Mitchell, Andrew B   \n",
       "4                                       NaN                 NaN   \n",
       "\n",
       "                        ExtractedDateSent ExtractedCaseNumber  \\\n",
       "0  Wednesday, September 12, 2012 10:16 AM        F-2015-04841   \n",
       "1                                     NaN        F-2015-04841   \n",
       "2  Wednesday, September 12, 2012 11:52 AM        F-2015-04841   \n",
       "3   Wednesday, September 12,2012 12:44 PM        F-2015-04841   \n",
       "4                                     NaN        F-2015-04841   \n",
       "\n",
       "  ExtractedDateReleased ExtractedReleaseInPartOrFull  \\\n",
       "0            05/13/2015              RELEASE IN FULL   \n",
       "1            05/13/2015              RELEASE IN PART   \n",
       "2            05/14/2015              RELEASE IN PART   \n",
       "3            05/13/2015              RELEASE IN PART   \n",
       "4            05/13/2015              RELEASE IN PART   \n",
       "\n",
       "                                   ExtractedBodyText  \\\n",
       "0                                                NaN   \n",
       "1  B6\\nThursday, March 3, 2011 9:45 PM\\nH: Latest...   \n",
       "2                                                Thx   \n",
       "3                                                NaN   \n",
       "4  H <hrod17@clintonemail.com>\\nFriday, March 11,...   \n",
       "\n",
       "                                             RawText  \n",
       "0  UNCLASSIFIED\\nU.S. Department of State\\nCase N...  \n",
       "1  UNCLASSIFIED\\nU.S. Department of State\\nCase N...  \n",
       "2  UNCLASSIFIED\\nU.S. Department of State\\nCase N...  \n",
       "3  UNCLASSIFIED\\nU.S. Department of State\\nCase N...  \n",
       "4  B6\\nUNCLASSIFIED\\nU.S. Department of State\\nCa...  "
      ]
     },
     "execution_count": 119,
     "metadata": {},
     "output_type": "execute_result"
    }
   ],
   "source": [
    "# Drop columns that won't be used\n",
    "emails = emails.drop(['DocNumber', 'MetadataPdfLink','DocNumber', 'ExtractedDocNumber', 'MetadataCaseNumber'], axis=1)\n",
    "emails.head()"
   ]
  },
  {
   "cell_type": "code",
   "execution_count": 120,
   "metadata": {
    "collapsed": false
   },
   "outputs": [
    {
     "data": {
      "text/html": [
       "<div>\n",
       "<table border=\"1\" class=\"dataframe\">\n",
       "  <thead>\n",
       "    <tr style=\"text-align: right;\">\n",
       "      <th></th>\n",
       "      <th>ExtractedBodyText</th>\n",
       "    </tr>\n",
       "  </thead>\n",
       "  <tbody>\n",
       "    <tr>\n",
       "      <th>0</th>\n",
       "      <td>NaN</td>\n",
       "    </tr>\n",
       "    <tr>\n",
       "      <th>1</th>\n",
       "      <td>B6\\nThursday, March 3, 2011 9:45 PM\\nH: Latest...</td>\n",
       "    </tr>\n",
       "    <tr>\n",
       "      <th>2</th>\n",
       "      <td>Thx</td>\n",
       "    </tr>\n",
       "    <tr>\n",
       "      <th>3</th>\n",
       "      <td>NaN</td>\n",
       "    </tr>\n",
       "    <tr>\n",
       "      <th>4</th>\n",
       "      <td>H &lt;hrod17@clintonemail.com&gt;\\nFriday, March 11,...</td>\n",
       "    </tr>\n",
       "  </tbody>\n",
       "</table>\n",
       "</div>"
      ],
      "text/plain": [
       "                                   ExtractedBodyText\n",
       "0                                                NaN\n",
       "1  B6\\nThursday, March 3, 2011 9:45 PM\\nH: Latest...\n",
       "2                                                Thx\n",
       "3                                                NaN\n",
       "4  H <hrod17@clintonemail.com>\\nFriday, March 11,..."
      ]
     },
     "execution_count": 120,
     "metadata": {},
     "output_type": "execute_result"
    }
   ],
   "source": [
    "emails_cut = emails[['ExtractedBodyText']].copy()\n",
    "emails_cut.head()"
   ]
  },
  {
   "cell_type": "code",
   "execution_count": 121,
   "metadata": {
    "collapsed": false
   },
   "outputs": [
    {
     "data": {
      "text/html": [
       "<div>\n",
       "<table border=\"1\" class=\"dataframe\">\n",
       "  <thead>\n",
       "    <tr style=\"text-align: right;\">\n",
       "      <th></th>\n",
       "      <th>ExtractedBodyText</th>\n",
       "    </tr>\n",
       "  </thead>\n",
       "  <tbody>\n",
       "    <tr>\n",
       "      <th>1</th>\n",
       "      <td>B6\\nThursday, March 3, 2011 9:45 PM\\nH: Latest...</td>\n",
       "    </tr>\n",
       "    <tr>\n",
       "      <th>2</th>\n",
       "      <td>Thx</td>\n",
       "    </tr>\n",
       "    <tr>\n",
       "      <th>4</th>\n",
       "      <td>H &lt;hrod17@clintonemail.com&gt;\\nFriday, March 11,...</td>\n",
       "    </tr>\n",
       "    <tr>\n",
       "      <th>5</th>\n",
       "      <td>Pis print.\\n-•-...-^\\nH &lt; hrod17@clintonernail...</td>\n",
       "    </tr>\n",
       "    <tr>\n",
       "      <th>7</th>\n",
       "      <td>H &lt;hrod17@clintonemail.corn&gt;\\nFriday, March 11...</td>\n",
       "    </tr>\n",
       "  </tbody>\n",
       "</table>\n",
       "</div>"
      ],
      "text/plain": [
       "                                   ExtractedBodyText\n",
       "1  B6\\nThursday, March 3, 2011 9:45 PM\\nH: Latest...\n",
       "2                                                Thx\n",
       "4  H <hrod17@clintonemail.com>\\nFriday, March 11,...\n",
       "5  Pis print.\\n-•-...-^\\nH < hrod17@clintonernail...\n",
       "7  H <hrod17@clintonemail.corn>\\nFriday, March 11..."
      ]
     },
     "execution_count": 121,
     "metadata": {},
     "output_type": "execute_result"
    }
   ],
   "source": [
    "emails_cut = emails_cut.dropna()\n",
    "emails_cut.head()\n"
   ]
  },
  {
   "cell_type": "markdown",
   "metadata": {},
   "source": [
    "Now we must tokenize the data..."
   ]
  },
  {
   "cell_type": "code",
   "execution_count": 122,
   "metadata": {
    "collapsed": true
   },
   "outputs": [],
   "source": [
    "from nltk import word_tokenize\n",
    "from nltk.tokenize import RegexpTokenizer\n",
    "from nltk.corpus import stopwords\n",
    "tokenizer = RegexpTokenizer(r'\\w+')"
   ]
  },
  {
   "cell_type": "code",
   "execution_count": 123,
   "metadata": {
    "collapsed": false
   },
   "outputs": [
    {
     "data": {
      "text/html": [
       "<div>\n",
       "<table border=\"1\" class=\"dataframe\">\n",
       "  <thead>\n",
       "    <tr style=\"text-align: right;\">\n",
       "      <th></th>\n",
       "      <th>TokenizedText</th>\n",
       "    </tr>\n",
       "  </thead>\n",
       "  <tbody>\n",
       "    <tr>\n",
       "      <th>0</th>\n",
       "      <td>[B6, Thursday, March, 3, 2011, 9, 45, PM, H, L...</td>\n",
       "    </tr>\n",
       "    <tr>\n",
       "      <th>1</th>\n",
       "      <td>[Thx]</td>\n",
       "    </tr>\n",
       "    <tr>\n",
       "      <th>2</th>\n",
       "      <td>[H, hrod17, clintonemail, com, Friday, March, ...</td>\n",
       "    </tr>\n",
       "    <tr>\n",
       "      <th>3</th>\n",
       "      <td>[Pis, print, H, hrod17, clintonernailcom, Wedn...</td>\n",
       "    </tr>\n",
       "    <tr>\n",
       "      <th>4</th>\n",
       "      <td>[H, hrod17, clintonemail, corn, Friday, March,...</td>\n",
       "    </tr>\n",
       "  </tbody>\n",
       "</table>\n",
       "</div>"
      ],
      "text/plain": [
       "                                       TokenizedText\n",
       "0  [B6, Thursday, March, 3, 2011, 9, 45, PM, H, L...\n",
       "1                                              [Thx]\n",
       "2  [H, hrod17, clintonemail, com, Friday, March, ...\n",
       "3  [Pis, print, H, hrod17, clintonernailcom, Wedn...\n",
       "4  [H, hrod17, clintonemail, corn, Friday, March,..."
      ]
     },
     "execution_count": 123,
     "metadata": {},
     "output_type": "execute_result"
    }
   ],
   "source": [
    "emails_tokenized = emails_cut.copy()\n",
    "for index, row in emails_tokenized.iterrows():\n",
    "    row['ExtractedBodyText'] = tokenizer.tokenize(row['ExtractedBodyText'])\n",
    "emails_tokenized.columns = ['TokenizedText']\n",
    "emails_tokenized.reset_index(drop=True, inplace=True)\n",
    "emails_tokenized.head()"
   ]
  },
  {
   "cell_type": "markdown",
   "metadata": {
    "collapsed": true
   },
   "source": [
    "Figure out what words to remove..."
   ]
  },
  {
   "cell_type": "code",
   "execution_count": 124,
   "metadata": {
    "collapsed": false
   },
   "outputs": [],
   "source": [
    "#Make sure to Capitalize all words\n",
    "#for email in emails_no_stop['TokenizedText']:\n",
    " #   size = len(email)\n",
    "#  for i in range (0,size):\n",
    "   #     wn = email[i].title()\n",
    "    #    email[i] = wn\n",
    "    \n",
    "\n",
    "#emails_no_stop.head()\n",
    "\n"
   ]
  },
  {
   "cell_type": "code",
   "execution_count": 128,
   "metadata": {
    "collapsed": false
   },
   "outputs": [
    {
     "data": {
      "text/html": [
       "<div>\n",
       "<table border=\"1\" class=\"dataframe\">\n",
       "  <thead>\n",
       "    <tr style=\"text-align: right;\">\n",
       "      <th></th>\n",
       "      <th>TokenizedText</th>\n",
       "    </tr>\n",
       "  </thead>\n",
       "  <tbody>\n",
       "    <tr>\n",
       "      <th>0</th>\n",
       "      <td>[B6, Thursday, March, 3, 2011, 9, 45, H, Lates...</td>\n",
       "    </tr>\n",
       "    <tr>\n",
       "      <th>1</th>\n",
       "      <td>[Thx]</td>\n",
       "    </tr>\n",
       "    <tr>\n",
       "      <th>2</th>\n",
       "      <td>[H, hrod17, clintonemail, com, Friday, March, ...</td>\n",
       "    </tr>\n",
       "    <tr>\n",
       "      <th>3</th>\n",
       "      <td>[Pis, print, H, hrod17, clintonernailcom, Wedn...</td>\n",
       "    </tr>\n",
       "    <tr>\n",
       "      <th>4</th>\n",
       "      <td>[H, hrod17, clintonemail, corn, Friday, March,...</td>\n",
       "    </tr>\n",
       "  </tbody>\n",
       "</table>\n",
       "</div>"
      ],
      "text/plain": [
       "                                       TokenizedText\n",
       "0  [B6, Thursday, March, 3, 2011, 9, 45, H, Lates...\n",
       "1                                              [Thx]\n",
       "2  [H, hrod17, clintonemail, com, Friday, March, ...\n",
       "3  [Pis, print, H, hrod17, clintonernailcom, Wedn...\n",
       "4  [H, hrod17, clintonemail, corn, Friday, March,..."
      ]
     },
     "execution_count": 128,
     "metadata": {},
     "output_type": "execute_result"
    }
   ],
   "source": [
    "words_delete = ['IT', 'RE','LA','AND', 'AM', 'AT', 'IN', 'I', 'ME', 'DO', \n",
    "                'A', 'AN','BUT', 'IF', 'OR','AS','OF','BY', 'TO', 'UP','ON','ANY', 'NO', 'NOR', 'NOT','SO',\n",
    "                'S', 'T','DON','D', 'LL', 'M', 'O','VE', 'Y','PM', 'TV','CD','PA','ET', 'BY', 'IE','MS', 'MP', 'CC', \n",
    "                'GA','VA', 'BI','CV', 'AL','VAT', 'VA','AI', 'MD', 'SM', 'FM', 'EST', 'BB', 'BRB', 'AQ', 'MA', 'MAR', 'JAM', 'BM', \n",
    "                'Lybia', 'LY', 'LBY', 'MC', 'MCO', 'MO', 'MAC', 'NC', 'PG', 'PNG', 'SUR', 'VI', 'lybia', 'ARM'] \n",
    "emails_final = emails_tokenized.copy()\n",
    "emails_final['TokenizedText'] = emails_final['TokenizedText'].apply(lambda x: [item for item in x if item not in words_delete])\n",
    "emails_final.head()"
   ]
  },
  {
   "cell_type": "markdown",
   "metadata": {},
   "source": [
    "Create list of countries"
   ]
  },
  {
   "cell_type": "code",
   "execution_count": 129,
   "metadata": {
    "collapsed": false
   },
   "outputs": [],
   "source": [
    "countries_cited = []\n",
    "for emails in emails_final['TokenizedText']:\n",
    "    for word in emails:\n",
    "        try:\n",
    "            country_name = pycountry.countries.get(alpha_2=word)\n",
    "            countries_cited.append(country_name.name)\n",
    "        except KeyError:\n",
    "            try:\n",
    "                country_name = pycountry.countries.get(alpha_3=word)\n",
    "                countries_cited.append(country_name.name)\n",
    "            except KeyError:\n",
    "                try:\n",
    "                    country = pycountry.countries.get(name=word)\n",
    "                    countries_cited.append(country_name.name)\n",
    "                except KeyError: pass\n"
   ]
  },
  {
   "cell_type": "markdown",
   "metadata": {},
   "source": [
    "Organize List and Count Occurrence of Each Country"
   ]
  },
  {
   "cell_type": "code",
   "execution_count": 130,
   "metadata": {
    "collapsed": false
   },
   "outputs": [
    {
     "data": {
      "text/plain": [
       "['Qatar',\n",
       " 'New Zealand',\n",
       " 'Greece',\n",
       " 'Tunisia',\n",
       " 'Indonesia',\n",
       " 'Brazil',\n",
       " 'China',\n",
       " 'British Indian Ocean Territory',\n",
       " 'Palestine, State of',\n",
       " 'Japan',\n",
       " 'Myanmar',\n",
       " 'Hong Kong',\n",
       " 'Georgia',\n",
       " 'Kenya',\n",
       " 'Argentina',\n",
       " 'Switzerland',\n",
       " 'Congo',\n",
       " 'Sudan',\n",
       " 'Comoros',\n",
       " 'Puerto Rico',\n",
       " 'Malaysia',\n",
       " 'Colombia',\n",
       " 'Australia',\n",
       " 'Belgium',\n",
       " 'Hungary',\n",
       " 'Luxembourg',\n",
       " 'Peru',\n",
       " 'Turkmenistan',\n",
       " 'Jamaica',\n",
       " 'Svalbard and Jan Mayen',\n",
       " 'Iceland',\n",
       " 'Brunei Darussalam',\n",
       " 'Somalia',\n",
       " 'Finland',\n",
       " 'Denmark',\n",
       " 'Costa Rica',\n",
       " 'Mauritius',\n",
       " 'Guinea-Bissau',\n",
       " 'Saudi Arabia',\n",
       " 'Mongolia',\n",
       " 'Sierra Leone',\n",
       " 'Poland',\n",
       " 'Armenia',\n",
       " 'Nauru',\n",
       " 'Thailand',\n",
       " 'Lithuania',\n",
       " 'Slovenia',\n",
       " 'Iraq',\n",
       " 'Liechtenstein',\n",
       " 'Portugal',\n",
       " 'Singapore',\n",
       " 'Cuba',\n",
       " 'Bahamas',\n",
       " 'Bosnia and Herzegovina',\n",
       " 'Israel',\n",
       " 'Azerbaijan',\n",
       " 'Namibia',\n",
       " 'Marshall Islands',\n",
       " 'Serbia',\n",
       " 'Canada',\n",
       " 'Philippines',\n",
       " 'Tuvalu',\n",
       " 'Gambia',\n",
       " 'Kiribati',\n",
       " 'Samoa',\n",
       " 'Germany',\n",
       " 'United States',\n",
       " 'Cayman Islands',\n",
       " 'Trinidad and Tobago',\n",
       " 'Seychelles',\n",
       " 'Czechia',\n",
       " 'Afghanistan',\n",
       " 'Malta',\n",
       " 'Ecuador',\n",
       " 'Cameroon',\n",
       " 'Korea, Republic of',\n",
       " 'Suriname',\n",
       " 'Madagascar',\n",
       " 'Nicaragua',\n",
       " 'United Kingdom',\n",
       " 'Croatia',\n",
       " 'Faroe Islands',\n",
       " 'Romania',\n",
       " 'Gibraltar',\n",
       " 'Sweden',\n",
       " 'Nigeria',\n",
       " 'Russian Federation',\n",
       " 'South Sudan',\n",
       " 'Jordan',\n",
       " 'Timor-Leste']"
      ]
     },
     "execution_count": 130,
     "metadata": {},
     "output_type": "execute_result"
    }
   ],
   "source": [
    "#List with Unique Entries of Countries Cited\n",
    "final_countries = list(set(countries_cited))\n",
    "size = len(final_countries)\n",
    "final_countries"
   ]
  },
  {
   "cell_type": "code",
   "execution_count": 131,
   "metadata": {
    "collapsed": false
   },
   "outputs": [
    {
     "data": {
      "text/html": [
       "<div>\n",
       "<table border=\"1\" class=\"dataframe\">\n",
       "  <thead>\n",
       "    <tr style=\"text-align: right;\">\n",
       "      <th></th>\n",
       "      <th>Country</th>\n",
       "      <th>Count</th>\n",
       "    </tr>\n",
       "  </thead>\n",
       "  <tbody>\n",
       "    <tr>\n",
       "      <th>0</th>\n",
       "      <td>Qatar</td>\n",
       "      <td>NaN</td>\n",
       "    </tr>\n",
       "    <tr>\n",
       "      <th>1</th>\n",
       "      <td>New Zealand</td>\n",
       "      <td>NaN</td>\n",
       "    </tr>\n",
       "    <tr>\n",
       "      <th>2</th>\n",
       "      <td>Greece</td>\n",
       "      <td>NaN</td>\n",
       "    </tr>\n",
       "    <tr>\n",
       "      <th>3</th>\n",
       "      <td>Tunisia</td>\n",
       "      <td>NaN</td>\n",
       "    </tr>\n",
       "    <tr>\n",
       "      <th>4</th>\n",
       "      <td>Indonesia</td>\n",
       "      <td>NaN</td>\n",
       "    </tr>\n",
       "  </tbody>\n",
       "</table>\n",
       "</div>"
      ],
      "text/plain": [
       "       Country Count\n",
       "0        Qatar   NaN\n",
       "1  New Zealand   NaN\n",
       "2       Greece   NaN\n",
       "3      Tunisia   NaN\n",
       "4    Indonesia   NaN"
      ]
     },
     "execution_count": 131,
     "metadata": {},
     "output_type": "execute_result"
    }
   ],
   "source": [
    "#Create New DataFrame for the Counts\n",
    "Country_Sent = pd.DataFrame(index=range(0,size),columns=['Country', 'Count'])\n",
    "Country_Sent['Country']=final_countries\n",
    "Country_Sent.head()"
   ]
  },
  {
   "cell_type": "code",
   "execution_count": 132,
   "metadata": {
    "collapsed": false
   },
   "outputs": [
    {
     "data": {
      "text/html": [
       "<div>\n",
       "<table border=\"1\" class=\"dataframe\">\n",
       "  <thead>\n",
       "    <tr style=\"text-align: right;\">\n",
       "      <th></th>\n",
       "      <th>Country</th>\n",
       "      <th>Count</th>\n",
       "    </tr>\n",
       "  </thead>\n",
       "  <tbody>\n",
       "    <tr>\n",
       "      <th>0</th>\n",
       "      <td>Qatar</td>\n",
       "      <td>1</td>\n",
       "    </tr>\n",
       "    <tr>\n",
       "      <th>1</th>\n",
       "      <td>New Zealand</td>\n",
       "      <td>31</td>\n",
       "    </tr>\n",
       "    <tr>\n",
       "      <th>2</th>\n",
       "      <td>Greece</td>\n",
       "      <td>1</td>\n",
       "    </tr>\n",
       "    <tr>\n",
       "      <th>3</th>\n",
       "      <td>Tunisia</td>\n",
       "      <td>10</td>\n",
       "    </tr>\n",
       "    <tr>\n",
       "      <th>4</th>\n",
       "      <td>Indonesia</td>\n",
       "      <td>9</td>\n",
       "    </tr>\n",
       "  </tbody>\n",
       "</table>\n",
       "</div>"
      ],
      "text/plain": [
       "       Country  Count\n",
       "0        Qatar      1\n",
       "1  New Zealand     31\n",
       "2       Greece      1\n",
       "3      Tunisia     10\n",
       "4    Indonesia      9"
      ]
     },
     "execution_count": 132,
     "metadata": {},
     "output_type": "execute_result"
    }
   ],
   "source": [
    "count_list = []\n",
    "for country in Country_Sent['Country']:\n",
    "    count = countries_cited.count(country)\n",
    "    count_list.append(count)\n",
    "    \n",
    "Country_Sent['Count']=count_list\n",
    "Country_Sent.head()\n",
    "\n"
   ]
  },
  {
   "cell_type": "code",
   "execution_count": 163,
   "metadata": {
    "collapsed": false
   },
   "outputs": [
    {
     "data": {
      "text/html": [
       "<div>\n",
       "<table border=\"1\" class=\"dataframe\">\n",
       "  <thead>\n",
       "    <tr style=\"text-align: right;\">\n",
       "      <th></th>\n",
       "      <th>Country</th>\n",
       "      <th>Count</th>\n",
       "      <th>Alpha_2</th>\n",
       "      <th>Alpha_3</th>\n",
       "    </tr>\n",
       "  </thead>\n",
       "  <tbody>\n",
       "    <tr>\n",
       "      <th>0</th>\n",
       "      <td>New Zealand</td>\n",
       "      <td>31</td>\n",
       "      <td>NZ</td>\n",
       "      <td>NZL</td>\n",
       "    </tr>\n",
       "    <tr>\n",
       "      <th>1</th>\n",
       "      <td>Georgia</td>\n",
       "      <td>47</td>\n",
       "      <td>GE</td>\n",
       "      <td>GEO</td>\n",
       "    </tr>\n",
       "    <tr>\n",
       "      <th>2</th>\n",
       "      <td>Puerto Rico</td>\n",
       "      <td>72</td>\n",
       "      <td>PR</td>\n",
       "      <td>PRI</td>\n",
       "    </tr>\n",
       "    <tr>\n",
       "      <th>3</th>\n",
       "      <td>Australia</td>\n",
       "      <td>42</td>\n",
       "      <td>AU</td>\n",
       "      <td>AUS</td>\n",
       "    </tr>\n",
       "    <tr>\n",
       "      <th>4</th>\n",
       "      <td>Hungary</td>\n",
       "      <td>17</td>\n",
       "      <td>HU</td>\n",
       "      <td>HUN</td>\n",
       "    </tr>\n",
       "  </tbody>\n",
       "</table>\n",
       "</div>"
      ],
      "text/plain": [
       "       Country  Count Alpha_2 Alpha_3\n",
       "0  New Zealand     31      NZ     NZL\n",
       "1      Georgia     47      GE     GEO\n",
       "2  Puerto Rico     72      PR     PRI\n",
       "3    Australia     42      AU     AUS\n",
       "4      Hungary     17      HU     HUN"
      ]
     },
     "execution_count": 163,
     "metadata": {},
     "output_type": "execute_result"
    }
   ],
   "source": [
    "#Take Out Countries with Less than 20 Citations\n",
    "Country_Sent= Country_Sent[Country_Sent['Count'] > 14]\n",
    "Country_Sent = Country_Sent.reset_index(drop=True)\n",
    "Country_Sent.head()\n"
   ]
  },
  {
   "cell_type": "code",
   "execution_count": 164,
   "metadata": {
    "collapsed": false
   },
   "outputs": [
    {
     "data": {
      "image/png": "[encoded data removed]",
      "text/plain": [
       "<matplotlib.figure.Figure at 0x14a819198>"
      ]
     },
     "metadata": {},
     "output_type": "display_data"
    }
   ],
   "source": [
    "#plot to see frequencies\n",
    "Country_Sent.plot.bar(x='Country', y='Count')\n",
    "plt.show()\n",
    "\n",
    "#We have repeatedly plotted this, identifying weird occurances (small countries with high counts), \n",
    "#and then elimitating them from the data set and repating the process"
   ]
  },
  {
   "cell_type": "code",
   "execution_count": 165,
   "metadata": {
    "collapsed": false
   },
   "outputs": [
    {
     "data": {
      "text/html": [
       "<div>\n",
       "<table border=\"1\" class=\"dataframe\">\n",
       "  <thead>\n",
       "    <tr style=\"text-align: right;\">\n",
       "      <th></th>\n",
       "      <th>Country</th>\n",
       "      <th>Count</th>\n",
       "      <th>Alpha_2</th>\n",
       "      <th>Alpha_3</th>\n",
       "    </tr>\n",
       "  </thead>\n",
       "  <tbody>\n",
       "    <tr>\n",
       "      <th>0</th>\n",
       "      <td>New Zealand</td>\n",
       "      <td>31</td>\n",
       "      <td>NZ</td>\n",
       "      <td>NZL</td>\n",
       "    </tr>\n",
       "    <tr>\n",
       "      <th>1</th>\n",
       "      <td>Georgia</td>\n",
       "      <td>47</td>\n",
       "      <td>GE</td>\n",
       "      <td>GEO</td>\n",
       "    </tr>\n",
       "    <tr>\n",
       "      <th>2</th>\n",
       "      <td>Puerto Rico</td>\n",
       "      <td>72</td>\n",
       "      <td>PR</td>\n",
       "      <td>PRI</td>\n",
       "    </tr>\n",
       "    <tr>\n",
       "      <th>3</th>\n",
       "      <td>Australia</td>\n",
       "      <td>42</td>\n",
       "      <td>AU</td>\n",
       "      <td>AUS</td>\n",
       "    </tr>\n",
       "    <tr>\n",
       "      <th>4</th>\n",
       "      <td>Hungary</td>\n",
       "      <td>17</td>\n",
       "      <td>HU</td>\n",
       "      <td>HUN</td>\n",
       "    </tr>\n",
       "  </tbody>\n",
       "</table>\n",
       "</div>"
      ],
      "text/plain": [
       "       Country  Count Alpha_2 Alpha_3\n",
       "0  New Zealand     31      NZ     NZL\n",
       "1      Georgia     47      GE     GEO\n",
       "2  Puerto Rico     72      PR     PRI\n",
       "3    Australia     42      AU     AUS\n",
       "4      Hungary     17      HU     HUN"
      ]
     },
     "execution_count": 165,
     "metadata": {},
     "output_type": "execute_result"
    }
   ],
   "source": [
    "#create a list with all possible names of the countries above\n",
    "countries_used_name = []\n",
    "countries_used_alpha_2 =[]\n",
    "countries_used_alpha_3 =[]\n",
    "\n",
    "for country in Country_Sent['Country']:\n",
    "    country_names = pycountry.countries.get(name=country)\n",
    "    countries_used_name.append(country_names.name)\n",
    "    countries_used_alpha_2.append(country_names.alpha_2)\n",
    "    countries_used_alpha_3.append(country_names.alpha_3)\n",
    "\n",
    "Country_Sent['Alpha_2']=countries_used_alpha_2\n",
    "Country_Sent['Alpha_3']=countries_used_alpha_3\n",
    "\n",
    "Country_Sent.head()"
   ]
  },
  {
   "cell_type": "markdown",
   "metadata": {},
   "source": [
    "Now we check sentiment on emails around these names"
   ]
  },
  {
   "cell_type": "code",
   "execution_count": null,
   "metadata": {
    "collapsed": true
   },
   "outputs": [],
   "source": [
    "for country in countries_used:\n",
    "    country_names=[]\n",
    "    try:\n",
    "        country_name = pycountry.countries.get(alpha_2=country)\n",
    "        country_names.append(country_name.alpha_2)    \n",
    "    except KeyError:\n",
    "            try:\n",
    "                country_name = pycountry.countries.get(alpha_3=country)\n",
    "                country_names.append(country_name.alpha_3)\n",
    "            except KeyError:\n",
    "                try:\n",
    "                    country_name = pycountry.countries.get(name=country)\n",
    "                    country_names.append(country_name.name)\n",
    "                except KeyError:\n",
    "                    country_names.append('NaN')"
   ]
  },
  {
   "cell_type": "code",
   "execution_count": null,
   "metadata": {
    "collapsed": false
   },
   "outputs": [],
   "source": [
    "sentiments = []\n",
    "vader_analyzer = SentimentIntensityAnalyzer()\n",
    "\n",
    "size = len(Country_Sent['Alpha_2'])\n",
    "for i in range(1,size):\n",
    "    country_score =[]\n",
    "    for email in emails_no_stop['TokenizedText']:\n",
    "        if Country_Sent['Alpha_2'][i] in email or Country_Sent['Alpha_3'][i] in email or Country_Sent['Country'][i] in email:\n",
    "            str_email = ' '.join(email)\n",
    "            sentiment = vader_analyzer.polarity_scores(str_email)\n",
    "            score = sentiment['compound']\n",
    "            country_score.append(score)\n",
    "        else: pass\n",
    "    if len(country_score)!=0:\n",
    "        sentiment_score = sum(country_score) / float(len(country_score))\n",
    "        sentiments.append(sentiment_score)\n",
    "    else:\n",
    "        sentiments.append(999)\n",
    "\n",
    "                   \n",
    "              \n",
    "        "
   ]
  },
  {
   "cell_type": "code",
   "execution_count": null,
   "metadata": {
    "collapsed": true
   },
   "outputs": [],
   "source": [
    "#add sentiment list to data frame\n",
    "Country_Sent['Sentiment'] = sentiments\n",
    "#delete any row with sentiment value of 999\n",
    "Country_Sent = Country_Sent[Country_Sent['Sentiment'] != 999]\n",
    "#reorder dataframe in ascending order of sentiment\n",
    "df.sort_values(['Sentiment'], ascending=True, inplace=True)\n",
    "#reorder index\n",
    "Country_Sent = Country_Sent.reset_index(drop=True)"
   ]
  },
  {
   "cell_type": "markdown",
   "metadata": {
    "collapsed": true
   },
   "source": [
    "Now we make a color gradient for the histogram"
   ]
  },
  {
   "cell_type": "code",
   "execution_count": null,
   "metadata": {
    "collapsed": true
   },
   "outputs": [],
   "source": [
    "#We must normalize the sentiment scores and create a gradient based on that (green, blue & red gradient)\n",
    "#first we sort the ones that are below zero, than the ones above zero\n",
    "Country_Sent['color_grad'] =[]\n",
    "size = len(Country_Sent['Sentiment'])\n",
    "\n",
    "for i in range(1,size):\n",
    "    if Country_Sent['Sentiment'][i] < 0:\n",
    "        high = 0\n",
    "        low = np.min(sentiments)\n",
    "        rg = high-low\n",
    "        new_entry = (low-entry)/rg\n",
    "        red = 1 - new_entry\n",
    "        Country_Sent['color_grad'][i]=(red,0,new_entry)\n",
    "    else:\n",
    "        high = np.max(sentiments)\n",
    "        low = 0\n",
    "        rg = high-low\n",
    "        new_entry = (entry-low)/rg\n",
    "        green = 1 - new_entry\n",
    "        Country_Sent['color_grad'][i]= (0,green,new_entry)\n",
    "\n",
    "Country_Sent.head()\n"
   ]
  },
  {
   "cell_type": "code",
   "execution_count": null,
   "metadata": {
    "collapsed": true
   },
   "outputs": [],
   "source": [
    "#Now we create the bar plot based on this palette\n",
    "import seaborn as sns\n",
    "plot = sns.barplot(x='Country', y='Sentiment', data=Country_Sent, orient='vertical', palette=Country_Sent['color_grad'])\n",
    "plt.ylabel('Country Sentiment');\n",
    "plt.show()"
   ]
  },
  {
   "cell_type": "code",
   "execution_count": null,
   "metadata": {
    "collapsed": true
   },
   "outputs": [],
   "source": [
    "#Now we create a bar plot with an automatic gradient based on sentiment\n",
    "size = len(Country_Sent['Sentiment'])\n",
    "grad = sns.palplot(sns.diverging_palette(10, 145, n=size))plot = sns.barplot(x='Country', y='Sentiment', data=Country_Sent, orient='vertical', palette=grad)\n",
    "plt.ylabel('Country Sentiment');\n",
    "plt.show()"
   ]
  }
 ],
 "metadata": {
  "anaconda-cloud": {},
  "kernelspec": {
   "display_name": "Python [conda root]",
   "language": "python",
   "name": "conda-root-py"
  },
  "language_info": {
   "codemirror_mode": {
    "name": "ipython",
    "version": 3
   },
   "file_extension": ".py",
   "mimetype": "text/x-python",
   "name": "python",
   "nbconvert_exporter": "python",
   "pygments_lexer": "ipython3",
   "version": "3.5.2"
  }
 },
 "nbformat": 4,
 "nbformat_minor": 1
}
