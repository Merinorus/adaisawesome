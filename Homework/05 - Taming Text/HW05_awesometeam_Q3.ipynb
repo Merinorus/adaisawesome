{
 "cells": [
  {
   "cell_type": "markdown",
   "metadata": {},
   "source": [
    "The goal is to do topic modeling over all the mails. In other words, we have to find recurrent topic or themes that may appear in the conversations.\n",
    "They are several way to analyse the mails content, starting by these two \"naive\" ways:\n",
    "- put all the extrated mails in only one document\n",
    "- put each extracted mail in a separate document\n",
    "\n",
    "But both of these ways have major drawbacks:\n",
    "- doing topic modelling on a single document would show the most frequent words, so the result should be the same as if we wanted to make a word cloud\n",
    "- a lot of mail are very small, a few words sometimes, so doing topic analysis here would be meaningless"
   ]
  },
  {
   "cell_type": "markdown",
   "metadata": {},
   "source": [
    "So we have to find a compromise: make multiple documents, each of them long enough to be analysed.\n",
    "One option would be create the entire conversations with the mail history, so we can extract main topic from each conversation. While it makes sense, it's actually pretty time-consuming to obtain the conversations."
   ]
  },
  {
   "cell_type": "markdown",
   "metadata": {},
   "source": [
    "What we will do is to create a document that contains the \"sent mails box\" for each person. It doesn't follow a conversation, so our results won't be the most coherent we could get. But the purpose here is to show the basics of topic modelling."
   ]
  },
  {
   "cell_type": "code",
   "execution_count": 36,
   "metadata": {
    "collapsed": false
   },
   "outputs": [],
   "source": [
    "import pandas as pd\n",
    "import gensim\n",
    "from nltk.tokenize import RegexpTokenizer\n",
    "from nltk.corpus import stopwords\n",
    "import re # regular expressions"
   ]
  },
  {
   "cell_type": "code",
   "execution_count": 18,
   "metadata": {
    "collapsed": true
   },
   "outputs": [],
   "source": [
    "emails = pd.read_csv(\"hillary-clinton-emails/Emails.csv\")"
   ]
  },
  {
   "cell_type": "code",
   "execution_count": 19,
   "metadata": {
    "collapsed": true
   },
   "outputs": [],
   "source": [
    "# Drop columns that won't be used\n",
    "emails = emails.drop(['DocNumber', 'MetadataPdfLink','DocNumber', 'ExtractedDocNumber', 'MetadataCaseNumber'], axis=1)"
   ]
  },
  {
   "cell_type": "code",
   "execution_count": 55,
   "metadata": {
    "collapsed": false
   },
   "outputs": [],
   "source": [
    "sampleEmail = emails.loc[1].ExtractedBodyText"
   ]
  },
  {
   "cell_type": "code",
   "execution_count": 66,
   "metadata": {
    "collapsed": false
   },
   "outputs": [
    {
     "data": {
      "text/plain": [
       "0                                                     NaN\n",
       "1       B6\\r\\nThursday, March 3, 2011 9:45 PM\\r\\nH: La...\n",
       "2                                                     Thx\n",
       "3                                                     NaN\n",
       "4       H <hrod17@clintonemail.com>\\r\\nFriday, March 1...\n",
       "5       Pis print.\\r\\n-•-...-^\\r\\nH < hrod17@clintoner...\n",
       "6                                                     NaN\n",
       "7       H <hrod17@clintonemail.corn>\\r\\nFriday, March ...\n",
       "8                                                     FYI\n",
       "9       B6\\r\\nWednesday, September 12, 2012 6:16 PM\\r\\...\n",
       "10                                       Fyi\\r\\nB6\\r\\n— —\n",
       "11      B6\\r\\nWednesday, September 12, 2012 6:16 PM\\r\\...\n",
       "12                                                    Fyi\n",
       "13      Anne-Marie Slaughter\\r\\nSunday, March 13, 2011...\n",
       "14      _ .....\\r\\nFrom Randolph, Lawrence M\\r\\nSent: ...\n",
       "15      I asked to attend your svtc today with Embassy...\n",
       "16                   Hope. See picture below Kamala sent.\n",
       "17                                         Another photo.\n",
       "18                                          This is nice.\n",
       "19      Amazing.\\r\\nSullivan, Jacob J <Sullivanii@stat...\n",
       "20      H <hrod17@clintonernaii.com›\\r\\nWednesday, Sep...\n",
       "21      Pis print.\\r\\nH < hrod17@clintoriernail.corn>\\...\n",
       "22                                             Pis print.\n",
       "23      Follow Up Flag: Follow up\\r\\nFlag Status: Flag...\n",
       "24                                                     B5\n",
       "25      Sidney Blumenthal\\r\\nThursday, September 13, 2...\n",
       "26                                               Will do.\n",
       "27                                   Remind me to discuss\n",
       "28      http://religion.b1ogs.cnn.com/20 1 2/09/13/my-...\n",
       "29                                         See note below\n",
       "                              ...                        \n",
       "7915    sbwhoeop\\r\\nTuesday, December 14, 2010 9:35 AM...\n",
       "7916    Death of Holbrookell.y,J3_4.:5 _043.) ,:u1.01 ...\n",
       "7917                                                  NaN\n",
       "7918                                                  NaN\n",
       "7919    on: 12/13/2025\\r\\nFrom\\r\\nTo: Verveer, Melanne...\n",
       "7920    That was what lona had when she went in to tal...\n",
       "7921                                                  Fyi\n",
       "7922    Madame Secretary, I wanted to flag for you tha...\n",
       "7923    It's at the bottom of page 1:\\r\\n...Ambassador...\n",
       "7924    I will be at a USGLC breakfast doing qddr so w...\n",
       "7925    Passed the Senate 81 to 19. START vote on moti...\n",
       "7926                                                   -^\n",
       "7927                         Traffic below from bottom up\n",
       "7928                             fyi\\r\\nForwarded message\n",
       "7929    Agree — he did all the writing and integrating...\n",
       "7930    Nice\\r\\nForgot to tell you about our harrowing...\n",
       "7931                                                  NaN\n",
       "7932                                        Worth a read.\n",
       "7933    The unsigned editorials will appear in all of ...\n",
       "7934                                                  NaN\n",
       "7935                                                  NaN\n",
       "7936    Mills, Cheryl D <MillsCD@state.gov>\\r\\nThursda...\n",
       "7937    THE NBC/YORKER\\r\\nDecember 14, 2010\\r\\nThe Env...\n",
       "7938    Hi. Sorry I haven't had a chance to see you, b...\n",
       "7939    B6\\r\\nI assume you saw this by now -- if not, ...\n",
       "7940                                                  NaN\n",
       "7941    Big change of plans in the Senate. Senator Rei...\n",
       "7942                                                  NaN\n",
       "7943    PVerveer B6\\r\\nFriday, December 17, 2010 12:12...\n",
       "7944                                           See below.\n",
       "Name: ExtractedBodyText, dtype: object"
      ]
     },
     "execution_count": 66,
     "metadata": {},
     "output_type": "execute_result"
    }
   ],
   "source": [
    "emails.ExtractedBodyText"
   ]
  },
  {
   "cell_type": "code",
   "execution_count": 65,
   "metadata": {
    "collapsed": false
   },
   "outputs": [
    {
     "ename": "AttributeError",
     "evalue": "'float' object has no attribute 'replace'",
     "output_type": "error",
     "traceback": [
      "\u001b[0;31m---------------------------------------------------------------------------\u001b[0m",
      "\u001b[0;31mAttributeError\u001b[0m                            Traceback (most recent call last)",
      "\u001b[0;32m<ipython-input-65-e04111f81e58>\u001b[0m in \u001b[0;36m<module>\u001b[0;34m()\u001b[0m\n\u001b[1;32m      1\u001b[0m \u001b[1;32mfor\u001b[0m \u001b[0mtext\u001b[0m \u001b[1;32min\u001b[0m \u001b[0memails\u001b[0m\u001b[1;33m.\u001b[0m\u001b[0mExtractedBodyText\u001b[0m\u001b[1;33m:\u001b[0m\u001b[1;33m\u001b[0m\u001b[0m\n\u001b[0;32m----> 2\u001b[0;31m     \u001b[0mtokens_list\u001b[0m \u001b[1;33m=\u001b[0m \u001b[0mtokenizer\u001b[0m\u001b[1;33m(\u001b[0m\u001b[0mtext\u001b[0m\u001b[1;33m)\u001b[0m\u001b[1;33m\u001b[0m\u001b[0m\n\u001b[0m",
      "\u001b[0;32m<ipython-input-60-d0c82283f6ce>\u001b[0m in \u001b[0;36mtokenizer\u001b[0;34m(text)\u001b[0m\n\u001b[1;32m      1\u001b[0m \u001b[1;32mdef\u001b[0m \u001b[0mtokenizer\u001b[0m\u001b[1;33m(\u001b[0m\u001b[0mtext\u001b[0m\u001b[1;33m)\u001b[0m\u001b[1;33m:\u001b[0m\u001b[1;33m\u001b[0m\u001b[0m\n\u001b[0;32m----> 2\u001b[0;31m     \u001b[0mcleanedText\u001b[0m \u001b[1;33m=\u001b[0m \u001b[0mtext\u001b[0m\u001b[1;33m.\u001b[0m\u001b[0mreplace\u001b[0m\u001b[1;33m(\u001b[0m\u001b[1;34m'\\n'\u001b[0m\u001b[1;33m,\u001b[0m \u001b[1;34m' '\u001b[0m\u001b[1;33m)\u001b[0m\u001b[1;33m\u001b[0m\u001b[0m\n\u001b[0m\u001b[1;32m      3\u001b[0m     \u001b[0mcleanedText\u001b[0m \u001b[1;33m=\u001b[0m \u001b[0mcleanedText\u001b[0m\u001b[1;33m.\u001b[0m\u001b[0mreplace\u001b[0m\u001b[1;33m(\u001b[0m\u001b[1;34m'\\r'\u001b[0m\u001b[1;33m,\u001b[0m \u001b[1;34m''\u001b[0m\u001b[1;33m)\u001b[0m\u001b[1;33m\u001b[0m\u001b[0m\n\u001b[1;32m      4\u001b[0m     \u001b[1;31m# Separate each word\u001b[0m\u001b[1;33m\u001b[0m\u001b[1;33m\u001b[0m\u001b[0m\n\u001b[1;32m      5\u001b[0m     \u001b[0mtokens\u001b[0m \u001b[1;33m=\u001b[0m \u001b[0mRegexpTokenizer\u001b[0m\u001b[1;33m(\u001b[0m\u001b[1;34mr'\\w+'\u001b[0m\u001b[1;33m)\u001b[0m\u001b[1;33m.\u001b[0m\u001b[0mtokenize\u001b[0m\u001b[1;33m(\u001b[0m\u001b[0mcleanedText\u001b[0m\u001b[1;33m)\u001b[0m\u001b[1;33m\u001b[0m\u001b[0m\n",
      "\u001b[0;31mAttributeError\u001b[0m: 'float' object has no attribute 'replace'"
     ]
    }
   ],
   "source": [
    "for text in emails.ExtractedBodyText:\n",
    "    tokens_list = tokenizer(text)"
   ]
  },
  {
   "cell_type": "code",
   "execution_count": 42,
   "metadata": {
    "collapsed": false
   },
   "outputs": [
    {
     "data": {
      "text/plain": [
       "['B6',\n",
       " 'Thursday',\n",
       " 'March',\n",
       " '3',\n",
       " '2011',\n",
       " '9',\n",
       " '45',\n",
       " 'PM',\n",
       " 'H',\n",
       " 'Latest',\n",
       " 'How',\n",
       " 'Syria',\n",
       " 'is',\n",
       " 'aiding',\n",
       " 'Qaddafi',\n",
       " 'and',\n",
       " 'more',\n",
       " 'Sid',\n",
       " 'hrc',\n",
       " 'memo',\n",
       " 'syria',\n",
       " 'aiding',\n",
       " 'libya',\n",
       " '030311',\n",
       " 'docx',\n",
       " 'hrc',\n",
       " 'memo',\n",
       " 'syria',\n",
       " 'aiding',\n",
       " 'libya',\n",
       " '030311',\n",
       " 'docx',\n",
       " 'March',\n",
       " '3',\n",
       " '2011',\n",
       " 'For',\n",
       " 'Hillary']"
      ]
     },
     "execution_count": 42,
     "metadata": {},
     "output_type": "execute_result"
    }
   ],
   "source": [
    "# Testing the cleaning function\n",
    "sample_tokens = tokenizer(sampleEmail)\n",
    "sample_tokens"
   ]
  },
  {
   "cell_type": "code",
   "execution_count": 72,
   "metadata": {
    "collapsed": false
   },
   "outputs": [],
   "source": [
    "emailsBySend = emails.groupby(['SenderPersonId'])['ExtractedBodyText']\n",
    "df = list(emailsBySend)\n",
    "df = pd.DataFrame(df)"
   ]
  },
  {
   "cell_type": "code",
   "execution_count": 39,
   "metadata": {
    "collapsed": false
   },
   "outputs": [
    {
     "ename": "SyntaxError",
     "evalue": "unexpected EOF while parsing (<ipython-input-39-6c06c0c33ed8>, line 3)",
     "output_type": "error",
     "traceback": [
      "\u001b[0;36m  File \u001b[0;32m\"<ipython-input-39-6c06c0c33ed8>\"\u001b[0;36m, line \u001b[0;32m3\u001b[0m\n\u001b[0;31m    #    print(senderID)\u001b[0m\n\u001b[0m                        ^\u001b[0m\n\u001b[0;31mSyntaxError\u001b[0m\u001b[0;31m:\u001b[0m unexpected EOF while parsing\n"
     ]
    }
   ],
   "source": [
    "senderIDs = []\n",
    "for senderID in emails['SenderPersonId']:\n",
    "#    print(senderID)"
   ]
  },
  {
   "cell_type": "code",
   "execution_count": 32,
   "metadata": {
    "collapsed": false
   },
   "outputs": [
    {
     "data": {
      "text/plain": [
       "<pandas.core.groupby.SeriesGroupBy object at 0x000001E54299A710>"
      ]
     },
     "execution_count": 32,
     "metadata": {},
     "output_type": "execute_result"
    }
   ],
   "source": [
    "emailsBySend"
   ]
  },
  {
   "cell_type": "code",
   "execution_count": 20,
   "metadata": {
    "collapsed": false
   },
   "outputs": [],
   "source": [
    "bodyContent = pd.DataFrame(emails.ExtractedBodyText.dropna())"
   ]
  },
  {
   "cell_type": "code",
   "execution_count": 21,
   "metadata": {
    "collapsed": false
   },
   "outputs": [
    {
     "data": {
      "text/html": [
       "<div>\n",
       "<table border=\"1\" class=\"dataframe\">\n",
       "  <thead>\n",
       "    <tr style=\"text-align: right;\">\n",
       "      <th></th>\n",
       "      <th>ExtractedBodyText</th>\n",
       "    </tr>\n",
       "  </thead>\n",
       "  <tbody>\n",
       "    <tr>\n",
       "      <th>1</th>\n",
       "      <td>B6\\r\\nThursday, March 3, 2011 9:45 PM\\r\\nH: La...</td>\n",
       "    </tr>\n",
       "    <tr>\n",
       "      <th>2</th>\n",
       "      <td>Thx</td>\n",
       "    </tr>\n",
       "    <tr>\n",
       "      <th>4</th>\n",
       "      <td>H &lt;hrod17@clintonemail.com&gt;\\r\\nFriday, March 1...</td>\n",
       "    </tr>\n",
       "    <tr>\n",
       "      <th>5</th>\n",
       "      <td>Pis print.\\r\\n-•-...-^\\r\\nH &lt; hrod17@clintoner...</td>\n",
       "    </tr>\n",
       "    <tr>\n",
       "      <th>7</th>\n",
       "      <td>H &lt;hrod17@clintonemail.corn&gt;\\r\\nFriday, March ...</td>\n",
       "    </tr>\n",
       "    <tr>\n",
       "      <th>8</th>\n",
       "      <td>FYI</td>\n",
       "    </tr>\n",
       "    <tr>\n",
       "      <th>9</th>\n",
       "      <td>B6\\r\\nWednesday, September 12, 2012 6:16 PM\\r\\...</td>\n",
       "    </tr>\n",
       "    <tr>\n",
       "      <th>10</th>\n",
       "      <td>Fyi\\r\\nB6\\r\\n— —</td>\n",
       "    </tr>\n",
       "    <tr>\n",
       "      <th>11</th>\n",
       "      <td>B6\\r\\nWednesday, September 12, 2012 6:16 PM\\r\\...</td>\n",
       "    </tr>\n",
       "    <tr>\n",
       "      <th>12</th>\n",
       "      <td>Fyi</td>\n",
       "    </tr>\n",
       "    <tr>\n",
       "      <th>13</th>\n",
       "      <td>Anne-Marie Slaughter\\r\\nSunday, March 13, 2011...</td>\n",
       "    </tr>\n",
       "    <tr>\n",
       "      <th>14</th>\n",
       "      <td>_ .....\\r\\nFrom Randolph, Lawrence M\\r\\nSent: ...</td>\n",
       "    </tr>\n",
       "    <tr>\n",
       "      <th>15</th>\n",
       "      <td>I asked to attend your svtc today with Embassy...</td>\n",
       "    </tr>\n",
       "    <tr>\n",
       "      <th>16</th>\n",
       "      <td>Hope. See picture below Kamala sent.</td>\n",
       "    </tr>\n",
       "    <tr>\n",
       "      <th>17</th>\n",
       "      <td>Another photo.</td>\n",
       "    </tr>\n",
       "    <tr>\n",
       "      <th>18</th>\n",
       "      <td>This is nice.</td>\n",
       "    </tr>\n",
       "    <tr>\n",
       "      <th>19</th>\n",
       "      <td>Amazing.\\r\\nSullivan, Jacob J &lt;Sullivanii@stat...</td>\n",
       "    </tr>\n",
       "    <tr>\n",
       "      <th>20</th>\n",
       "      <td>H &lt;hrod17@clintonernaii.com›\\r\\nWednesday, Sep...</td>\n",
       "    </tr>\n",
       "    <tr>\n",
       "      <th>21</th>\n",
       "      <td>Pis print.\\r\\nH &lt; hrod17@clintoriernail.corn&gt;\\...</td>\n",
       "    </tr>\n",
       "    <tr>\n",
       "      <th>22</th>\n",
       "      <td>Pis print.</td>\n",
       "    </tr>\n",
       "    <tr>\n",
       "      <th>23</th>\n",
       "      <td>Follow Up Flag: Follow up\\r\\nFlag Status: Flag...</td>\n",
       "    </tr>\n",
       "    <tr>\n",
       "      <th>24</th>\n",
       "      <td>B5</td>\n",
       "    </tr>\n",
       "    <tr>\n",
       "      <th>25</th>\n",
       "      <td>Sidney Blumenthal\\r\\nThursday, September 13, 2...</td>\n",
       "    </tr>\n",
       "    <tr>\n",
       "      <th>26</th>\n",
       "      <td>Will do.</td>\n",
       "    </tr>\n",
       "    <tr>\n",
       "      <th>27</th>\n",
       "      <td>Remind me to discuss</td>\n",
       "    </tr>\n",
       "    <tr>\n",
       "      <th>28</th>\n",
       "      <td>http://religion.b1ogs.cnn.com/20 1 2/09/13/my-...</td>\n",
       "    </tr>\n",
       "    <tr>\n",
       "      <th>29</th>\n",
       "      <td>See note below</td>\n",
       "    </tr>\n",
       "    <tr>\n",
       "      <th>30</th>\n",
       "      <td>FYI</td>\n",
       "    </tr>\n",
       "    <tr>\n",
       "      <th>31</th>\n",
       "      <td>embassy in Yemen</td>\n",
       "    </tr>\n",
       "    <tr>\n",
       "      <th>32</th>\n",
       "      <td>B6\\r\\nSunday, March 27, 201i 9:05 PM\\r\\nH: Lot...</td>\n",
       "    </tr>\n",
       "    <tr>\n",
       "      <th>...</th>\n",
       "      <td>...</td>\n",
       "    </tr>\n",
       "    <tr>\n",
       "      <th>7907</th>\n",
       "      <td>He was larger than life in everything he did -...</td>\n",
       "    </tr>\n",
       "    <tr>\n",
       "      <th>7908</th>\n",
       "      <td>OMG — I just opened this!</td>\n",
       "    </tr>\n",
       "    <tr>\n",
       "      <th>7909</th>\n",
       "      <td>Huma Abedin &lt;Huma@clintonemail.com&gt;\\r\\nMonday,...</td>\n",
       "    </tr>\n",
       "    <tr>\n",
       "      <th>7910</th>\n",
       "      <td>Are still here and so appreciative for all you...</td>\n",
       "    </tr>\n",
       "    <tr>\n",
       "      <th>7911</th>\n",
       "      <td>According to the Reid staff, they will tentati...</td>\n",
       "    </tr>\n",
       "    <tr>\n",
       "      <th>7912</th>\n",
       "      <td>My flight takes off at 8 so call before if you...</td>\n",
       "    </tr>\n",
       "    <tr>\n",
       "      <th>7914</th>\n",
       "      <td>That's right; we mean 09. We'll fix it. Thanks...</td>\n",
       "    </tr>\n",
       "    <tr>\n",
       "      <th>7915</th>\n",
       "      <td>sbwhoeop\\r\\nTuesday, December 14, 2010 9:35 AM...</td>\n",
       "    </tr>\n",
       "    <tr>\n",
       "      <th>7916</th>\n",
       "      <td>Death of Holbrookell.y,J3_4.:5 _043.) ,:u1.01 ...</td>\n",
       "    </tr>\n",
       "    <tr>\n",
       "      <th>7919</th>\n",
       "      <td>on: 12/13/2025\\r\\nFrom\\r\\nTo: Verveer, Melanne...</td>\n",
       "    </tr>\n",
       "    <tr>\n",
       "      <th>7920</th>\n",
       "      <td>That was what lona had when she went in to tal...</td>\n",
       "    </tr>\n",
       "    <tr>\n",
       "      <th>7921</th>\n",
       "      <td>Fyi</td>\n",
       "    </tr>\n",
       "    <tr>\n",
       "      <th>7922</th>\n",
       "      <td>Madame Secretary, I wanted to flag for you tha...</td>\n",
       "    </tr>\n",
       "    <tr>\n",
       "      <th>7923</th>\n",
       "      <td>It's at the bottom of page 1:\\r\\n...Ambassador...</td>\n",
       "    </tr>\n",
       "    <tr>\n",
       "      <th>7924</th>\n",
       "      <td>I will be at a USGLC breakfast doing qddr so w...</td>\n",
       "    </tr>\n",
       "    <tr>\n",
       "      <th>7925</th>\n",
       "      <td>Passed the Senate 81 to 19. START vote on moti...</td>\n",
       "    </tr>\n",
       "    <tr>\n",
       "      <th>7926</th>\n",
       "      <td>-^</td>\n",
       "    </tr>\n",
       "    <tr>\n",
       "      <th>7927</th>\n",
       "      <td>Traffic below from bottom up</td>\n",
       "    </tr>\n",
       "    <tr>\n",
       "      <th>7928</th>\n",
       "      <td>fyi\\r\\nForwarded message</td>\n",
       "    </tr>\n",
       "    <tr>\n",
       "      <th>7929</th>\n",
       "      <td>Agree — he did all the writing and integrating...</td>\n",
       "    </tr>\n",
       "    <tr>\n",
       "      <th>7930</th>\n",
       "      <td>Nice\\r\\nForgot to tell you about our harrowing...</td>\n",
       "    </tr>\n",
       "    <tr>\n",
       "      <th>7932</th>\n",
       "      <td>Worth a read.</td>\n",
       "    </tr>\n",
       "    <tr>\n",
       "      <th>7933</th>\n",
       "      <td>The unsigned editorials will appear in all of ...</td>\n",
       "    </tr>\n",
       "    <tr>\n",
       "      <th>7936</th>\n",
       "      <td>Mills, Cheryl D &lt;MillsCD@state.gov&gt;\\r\\nThursda...</td>\n",
       "    </tr>\n",
       "    <tr>\n",
       "      <th>7937</th>\n",
       "      <td>THE NBC/YORKER\\r\\nDecember 14, 2010\\r\\nThe Env...</td>\n",
       "    </tr>\n",
       "    <tr>\n",
       "      <th>7938</th>\n",
       "      <td>Hi. Sorry I haven't had a chance to see you, b...</td>\n",
       "    </tr>\n",
       "    <tr>\n",
       "      <th>7939</th>\n",
       "      <td>B6\\r\\nI assume you saw this by now -- if not, ...</td>\n",
       "    </tr>\n",
       "    <tr>\n",
       "      <th>7941</th>\n",
       "      <td>Big change of plans in the Senate. Senator Rei...</td>\n",
       "    </tr>\n",
       "    <tr>\n",
       "      <th>7943</th>\n",
       "      <td>PVerveer B6\\r\\nFriday, December 17, 2010 12:12...</td>\n",
       "    </tr>\n",
       "    <tr>\n",
       "      <th>7944</th>\n",
       "      <td>See below.</td>\n",
       "    </tr>\n",
       "  </tbody>\n",
       "</table>\n",
       "<p>6742 rows × 1 columns</p>\n",
       "</div>"
      ],
      "text/plain": [
       "                                      ExtractedBodyText\n",
       "1     B6\\r\\nThursday, March 3, 2011 9:45 PM\\r\\nH: La...\n",
       "2                                                   Thx\n",
       "4     H <hrod17@clintonemail.com>\\r\\nFriday, March 1...\n",
       "5     Pis print.\\r\\n-•-...-^\\r\\nH < hrod17@clintoner...\n",
       "7     H <hrod17@clintonemail.corn>\\r\\nFriday, March ...\n",
       "8                                                   FYI\n",
       "9     B6\\r\\nWednesday, September 12, 2012 6:16 PM\\r\\...\n",
       "10                                     Fyi\\r\\nB6\\r\\n— —\n",
       "11    B6\\r\\nWednesday, September 12, 2012 6:16 PM\\r\\...\n",
       "12                                                  Fyi\n",
       "13    Anne-Marie Slaughter\\r\\nSunday, March 13, 2011...\n",
       "14    _ .....\\r\\nFrom Randolph, Lawrence M\\r\\nSent: ...\n",
       "15    I asked to attend your svtc today with Embassy...\n",
       "16                 Hope. See picture below Kamala sent.\n",
       "17                                       Another photo.\n",
       "18                                        This is nice.\n",
       "19    Amazing.\\r\\nSullivan, Jacob J <Sullivanii@stat...\n",
       "20    H <hrod17@clintonernaii.com›\\r\\nWednesday, Sep...\n",
       "21    Pis print.\\r\\nH < hrod17@clintoriernail.corn>\\...\n",
       "22                                           Pis print.\n",
       "23    Follow Up Flag: Follow up\\r\\nFlag Status: Flag...\n",
       "24                                                   B5\n",
       "25    Sidney Blumenthal\\r\\nThursday, September 13, 2...\n",
       "26                                             Will do.\n",
       "27                                 Remind me to discuss\n",
       "28    http://religion.b1ogs.cnn.com/20 1 2/09/13/my-...\n",
       "29                                       See note below\n",
       "30                                                  FYI\n",
       "31                                     embassy in Yemen\n",
       "32    B6\\r\\nSunday, March 27, 201i 9:05 PM\\r\\nH: Lot...\n",
       "...                                                 ...\n",
       "7907  He was larger than life in everything he did -...\n",
       "7908                          OMG — I just opened this!\n",
       "7909  Huma Abedin <Huma@clintonemail.com>\\r\\nMonday,...\n",
       "7910  Are still here and so appreciative for all you...\n",
       "7911  According to the Reid staff, they will tentati...\n",
       "7912  My flight takes off at 8 so call before if you...\n",
       "7914  That's right; we mean 09. We'll fix it. Thanks...\n",
       "7915  sbwhoeop\\r\\nTuesday, December 14, 2010 9:35 AM...\n",
       "7916  Death of Holbrookell.y,J3_4.:5 _043.) ,:u1.01 ...\n",
       "7919  on: 12/13/2025\\r\\nFrom\\r\\nTo: Verveer, Melanne...\n",
       "7920  That was what lona had when she went in to tal...\n",
       "7921                                                Fyi\n",
       "7922  Madame Secretary, I wanted to flag for you tha...\n",
       "7923  It's at the bottom of page 1:\\r\\n...Ambassador...\n",
       "7924  I will be at a USGLC breakfast doing qddr so w...\n",
       "7925  Passed the Senate 81 to 19. START vote on moti...\n",
       "7926                                                 -^\n",
       "7927                       Traffic below from bottom up\n",
       "7928                           fyi\\r\\nForwarded message\n",
       "7929  Agree — he did all the writing and integrating...\n",
       "7930  Nice\\r\\nForgot to tell you about our harrowing...\n",
       "7932                                      Worth a read.\n",
       "7933  The unsigned editorials will appear in all of ...\n",
       "7936  Mills, Cheryl D <MillsCD@state.gov>\\r\\nThursda...\n",
       "7937  THE NBC/YORKER\\r\\nDecember 14, 2010\\r\\nThe Env...\n",
       "7938  Hi. Sorry I haven't had a chance to see you, b...\n",
       "7939  B6\\r\\nI assume you saw this by now -- if not, ...\n",
       "7941  Big change of plans in the Senate. Senator Rei...\n",
       "7943  PVerveer B6\\r\\nFriday, December 17, 2010 12:12...\n",
       "7944                                         See below.\n",
       "\n",
       "[6742 rows x 1 columns]"
      ]
     },
     "execution_count": 21,
     "metadata": {},
     "output_type": "execute_result"
    }
   ],
   "source": [
    "bodyContent"
   ]
  },
  {
   "cell_type": "markdown",
   "metadata": {},
   "source": [
    "This part contains used the source code that was used above during the homework, just for your curiosity."
   ]
  },
  {
   "cell_type": "code",
   "execution_count": 28,
   "metadata": {
    "collapsed": true
   },
   "outputs": [],
   "source": [
    "# Words to be removed because they \"falsify\" the results\n",
    "ignored_words = ['re', 'fw', 'pm']"
   ]
  },
  {
   "cell_type": "code",
   "execution_count": 60,
   "metadata": {
    "collapsed": true
   },
   "outputs": [],
   "source": [
    "def tokenizer(text):\n",
    "    cleanedText = text.replace('\\n', ' ')\n",
    "    cleanedText = cleanedText.replace('\\r', '')\n",
    "    # Separate each word\n",
    "    tokens = RegexpTokenizer(r'\\w+').tokenize(cleanedText)\n",
    "    \n",
    "    return tokens"
   ]
  },
  {
   "cell_type": "code",
   "execution_count": 58,
   "metadata": {
    "collapsed": false
   },
   "outputs": [],
   "source": []
  }
 ],
 "metadata": {
  "anaconda-cloud": {},
  "kernelspec": {
   "display_name": "Python [conda root]",
   "language": "python",
   "name": "conda-root-py"
  },
  "language_info": {
   "codemirror_mode": {
    "name": "ipython",
    "version": 3
   },
   "file_extension": ".py",
   "mimetype": "text/x-python",
   "name": "python",
   "nbconvert_exporter": "python",
   "pygments_lexer": "ipython3",
   "version": "3.5.2"
  }
 },
 "nbformat": 4,
 "nbformat_minor": 1
}
