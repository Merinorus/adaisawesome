{
 "cells": [
  {
   "cell_type": "markdown",
   "metadata": {},
   "source": [
    "BONUS: perform the gender-based study also on the Master students, as explained in 1. Use scatterplots to visually identify changes over time. Plot males and females with different colors -- can you spot different trends that match the results of your statistical tests?"
   ]
  },
  {
   "cell_type": "code",
   "execution_count": null,
   "metadata": {
    "collapsed": true
   },
   "outputs": [],
   "source": [
    "#use hypothetical data set generated in Question 2\n",
    "# we were not able to generate the DataSet and therefore were not able to test this code\n",
    "#this is our attemp at demonstrating the algorithim that we'd use to compute stats for part 3"
   ]
  },
  {
   "cell_type": "code",
   "execution_count": null,
   "metadata": {
    "collapsed": true
   },
   "outputs": [],
   "source": [
    "#Statistical Tests for Question 3 (Bonus)\n",
    "#Find Students who completed masters\n",
    "#Assumption: to complete the masters, we consider students with an Entry on Semester 1 and on Masters Project\n",
    "#use if statement to find students who posses both\n",
    "\n",
    "\n"
   ]
  },
  {
   "cell_type": "code",
   "execution_count": null,
   "metadata": {
    "collapsed": true
   },
   "outputs": [],
   "source": [
    "#Calculate time at EPFL \n",
    "#Formula: time at EPFL (time of Semester 1 - Time of Masters Project)\n",
    "#Add a column of time at EPFL \n",
    "[m,n] = DataSet.shape;\n",
    "for i in (0,m):\n",
    "    DataSet.TimeSpent[i]=DataSet.StartDate[i]-DataSet.EndDate[i]; #assume we were able to create a column with the end date and start date of each student\n",
    "    \n",
    "    "
   ]
  },
  {
   "cell_type": "code",
   "execution_count": null,
   "metadata": {
    "collapsed": true
   },
   "outputs": [],
   "source": [
    "#Calculate Overall Average by Gender\n",
    "Fem = 0; #initialize count for female/male entries\n",
    "Male = 0;\n",
    "TotFem = 0; #initialize sum of total time spent at EPFL\n",
    "TotMale = 0;\n",
    "for i in (0,m):\n",
    "    if DataSet[i,1] == 'Madame':\n",
    "        Fem = Fem + 1;\n",
    "        TotFem = TotFem + DataSet.TimeSpent[i];\n",
    "        elif DataSet[i,1] == 'Monsieur'\n",
    "        Male = Male + 1;\n",
    "        TotMale = TotMale + DataSet.TimeSpent[i];\n",
    "    \n",
    "MaleAvg = TotMale/Male;\n",
    "FemAvg = TotFem/Fem;\n",
    "Avgs = [MaleAvg FemAvg];\n",
    "return Avgs\n"
   ]
  },
  {
   "cell_type": "code",
   "execution_count": null,
   "metadata": {
    "collapsed": true
   },
   "outputs": [],
   "source": [
    "# determine statistical significance using t-test \n",
    "from scipy.stats import ttest_ind\n",
    "\n",
    "Fem = DataSet[DataSet['Civilité']=='Madame']\n",
    "Male = DataSet[DataSet['Civilité']=='Monsieur']\n",
    "\n",
    "[p,e] = ttest_ind(Fem['TimeSpent'], Male['TimeSpent'])\n",
    "if p<=0.05:\n",
    "    print \"The difference in averages is statistically significance to a siginificance level of 95%\"\n",
    "    else\n",
    "        print \"The difference in averages is not statistically significance to a significance level of 95%\"\n",
    "\n"
   ]
  },
  {
   "cell_type": "code",
   "execution_count": null,
   "metadata": {
    "collapsed": true
   },
   "outputs": [],
   "source": [
    "#Find the evolution of averages by gender\n",
    "#Calculate the average stay at EPFL for people arriving at different years\n",
    "FemArray = []; #initialize arrays to store average by starting year\n",
    "MaleArray = [];\n",
    "for i in (2007,2014):\n",
    "    YearAvg = DataSet[DataSet['StartDate']==i];\n",
    "    Fem2 = YearAvg[YearAvg['Civilité']=='Madame'];\n",
    "    Male2 = YearAvg[YearAvg['Civilité']=='Monsieur'];\n",
    "    MeanFem = mean(Fem2.TimeSpent);\n",
    "    MeanMale = mean(Male2.TimeSpent);\n",
    "    FemArray.extend(MeanFem);\n",
    "    MaleArray.extend(MeanMale);\n",
    "    \n",
    "\n",
    "\n",
    "\n",
    "        \n",
    "    "
   ]
  },
  {
   "cell_type": "code",
   "execution_count": null,
   "metadata": {
    "collapsed": true
   },
   "outputs": [],
   "source": [
    "#create scatter plot of evolution with different colors by gender\n",
    "\n",
    "import matplotlib.pyplot as plt\n",
    "\n",
    "x = [2007:2014]; # set x axis array of starting dates\n",
    "fig = plt.figure()\n",
    "ax1 = fig.add_subplot(111)\n",
    "\n",
    "ax1.scatter(x, FemArray, c='r', label='Female')\n",
    "ax1.scatter(x, MaleArray, c='b', label='Male')\n",
    "plt.legend(loc='upper left');\n",
    "plt.show()\n",
    "\n",
    "\n"
   ]
  }
 ],
 "metadata": {
  "anaconda-cloud": {},
  "kernelspec": {
   "display_name": "Python [conda root]",
   "language": "python",
   "name": "conda-root-py"
  },
  "language_info": {
   "codemirror_mode": {
    "name": "ipython",
    "version": 3
   },
   "file_extension": ".py",
   "mimetype": "text/x-python",
   "name": "python",
   "nbconvert_exporter": "python",
   "pygments_lexer": "ipython3",
   "version": "3.5.2"
  }
 },
 "nbformat": 4,
 "nbformat_minor": 0
}
