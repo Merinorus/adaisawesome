{
 "cells": [
  {
   "cell_type": "markdown",
   "metadata": {},
   "source": [
    "Obtain all the data for the Bachelor students, starting from 2007. Keep only the students for which you have an entry for both Bachelor semestre 1 and Bachelor semestre 6. Compute how many months it took each student to go from the first to the sixth semester. Partition the data between male and female students, and compute the average -- is the difference in average statistically significant?"
   ]
  },
  {
   "cell_type": "code",
   "execution_count": 25,
   "metadata": {
    "collapsed": false
   },
   "outputs": [],
   "source": [
    "import pandas as pd\n",
    "import requests\n",
    "import re\n",
    "from bs4 import BeautifulSoup"
   ]
  },
  {
   "cell_type": "code",
   "execution_count": 26,
   "metadata": {
    "collapsed": false
   },
   "outputs": [
    {
     "name": "stdout",
     "output_type": "stream",
     "text": [
      "<html>\n",
      " <head>\n",
      "  <meta content=\"text/html; charset=utf-8\" http-equiv=\"Content-Type\">\n",
      "   <div>\n",
      "   </div>\n",
      "   <title>\n",
      "   </title>\n",
      "   <script src=\"GEDPUBLICREPORTS.txt?ww_x_path=Gestac.Base.Palette_js&amp;ww_c_langue=fr\" type=\"text/javascript\">\n",
      "   </script>\n",
      "   <link href=\"GEDPUBLICREPORTS.css?ww_x_path=Gestac.Moniteur.Style\" rel=\"stylesheet\" type=\"text/css\">\n",
      "    <link href=\"GEDPUBLICREPORTS.css?ww_x_path=Gestac.Moniteur.StyleNavigator\" rel=\"stylesheet\" type=\"text/css\"/>\n",
      "   </link>\n",
      "  </meta>\n",
      " </head>\n",
      " <body alink=\"#666666\" bgcolor=\"#ffffff\" link=\"#666666\" marginheight=\"0\" marginwidth=\"5\" vlink=\"#666666\">\n",
      "  <div class=\"filtres\">\n",
      "   <form action=\"!GEDPUBLICREPORTS.filter\" method=\"GET\" name=\"f\">\n",
      "    <input name=\"ww_b_list\" type=\"hidden\" value=\"1\">\n",
      "     <input name=\"ww_i_reportmodel\" type=\"hidden\" value=\"133685247\">\n",
      "      <input name=\"ww_c_langue\" type=\"hidden\" value=\"\">\n",
      "       <h1 id=\"titre\">\n",
      "        Liste des étudiants inscrits par semestre\n",
      "       </h1>\n",
      "       <table border=\"0\" id=\"format\">\n",
      "        <tr>\n",
      "         <th>\n",
      "          Format:\n",
      "         </th>\n",
      "        </tr>\n",
      "        <tr>\n",
      "         <td>\n",
      "          <input checked=\"\" name=\"ww_i_reportModelXsl\" type=\"radio\" value=\"133685270\">\n",
      "           html\n",
      "          </input>\n",
      "         </td>\n",
      "        </tr>\n",
      "        <tr>\n",
      "         <td>\n",
      "          <input name=\"ww_i_reportModelXsl\" type=\"radio\" value=\"133685271\">\n",
      "           xls\n",
      "          </input>\n",
      "         </td>\n",
      "        </tr>\n",
      "       </table>\n",
      "       <h1>\n",
      "       </h1>\n",
      "       <table border=\"0\" id=\"filtre\">\n",
      "        <tr>\n",
      "         <th>\n",
      "          Unité académique\n",
      "         </th>\n",
      "         <td>\n",
      "          <input name=\"zz_x_UNITE_ACAD\" type=\"hidden\" value=\"\">\n",
      "           <select name=\"ww_x_UNITE_ACAD\" onchange=\"document.f.zz_x_UNITE_ACAD.value=document.f.ww_x_UNITE_ACAD.options[document.f.ww_x_UNITE_ACAD.selectedIndex].text\">\n",
      "            <option value=\"null\">\n",
      "            </option>\n",
      "            <option value=\"942293\">\n",
      "             Architecture\n",
      "            </option>\n",
      "            <option value=\"246696\">\n",
      "             Chimie et génie chimique\n",
      "            </option>\n",
      "            <option value=\"943282\">\n",
      "             Cours de mathématiques spéciales\n",
      "            </option>\n",
      "            <option value=\"637841336\">\n",
      "             EME (EPFL Middle East)\n",
      "            </option>\n",
      "            <option value=\"942623\">\n",
      "             Génie civil\n",
      "            </option>\n",
      "            <option value=\"944263\">\n",
      "             Génie mécanique\n",
      "            </option>\n",
      "            <option value=\"943936\">\n",
      "             Génie électrique et électronique\n",
      "            </option>\n",
      "            <option value=\"2054839157\">\n",
      "             Humanités digitales\n",
      "            </option>\n",
      "            <option value=\"249847\">\n",
      "             Informatique\n",
      "            </option>\n",
      "            <option value=\"120623110\">\n",
      "             Ingénierie financière\n",
      "            </option>\n",
      "            <option value=\"946882\">\n",
      "             Management de la technologie\n",
      "            </option>\n",
      "            <option value=\"944590\">\n",
      "             Mathématiques\n",
      "            </option>\n",
      "            <option value=\"945244\">\n",
      "             Microtechnique\n",
      "            </option>\n",
      "            <option value=\"945571\">\n",
      "             Physique\n",
      "            </option>\n",
      "            <option value=\"944917\">\n",
      "             Science et génie des matériaux\n",
      "            </option>\n",
      "            <option value=\"942953\">\n",
      "             Sciences et ingénierie de l'environnement\n",
      "            </option>\n",
      "            <option value=\"945901\">\n",
      "             Sciences et technologies du vivant\n",
      "            </option>\n",
      "            <option value=\"1574548993\">\n",
      "             Section FCUE\n",
      "            </option>\n",
      "            <option value=\"946228\">\n",
      "             Systèmes de communication\n",
      "            </option>\n",
      "           </select>\n",
      "          </input>\n",
      "         </td>\n",
      "        </tr>\n",
      "        <tr>\n",
      "         <th>\n",
      "          Période académique\n",
      "         </th>\n",
      "         <td>\n",
      "          <input name=\"zz_x_PERIODE_ACAD\" type=\"hidden\" value=\"\">\n",
      "           <select name=\"ww_x_PERIODE_ACAD\" onchange=\"document.f.zz_x_PERIODE_ACAD.value=document.f.ww_x_PERIODE_ACAD.options[document.f.ww_x_PERIODE_ACAD.selectedIndex].text\">\n",
      "            <option value=\"null\">\n",
      "            </option>\n",
      "            <option value=\"355925344\">\n",
      "             2016-2017\n",
      "            </option>\n",
      "            <option value=\"213638028\">\n",
      "             2015-2016\n",
      "            </option>\n",
      "            <option value=\"213637922\">\n",
      "             2014-2015\n",
      "            </option>\n",
      "            <option value=\"213637754\">\n",
      "             2013-2014\n",
      "            </option>\n",
      "            <option value=\"123456101\">\n",
      "             2012-2013\n",
      "            </option>\n",
      "            <option value=\"123455150\">\n",
      "             2011-2012\n",
      "            </option>\n",
      "            <option value=\"39486325\">\n",
      "             2010-2011\n",
      "            </option>\n",
      "            <option value=\"978195\">\n",
      "             2009-2010\n",
      "            </option>\n",
      "            <option value=\"978187\">\n",
      "             2008-2009\n",
      "            </option>\n",
      "            <option value=\"978181\">\n",
      "             2007-2008\n",
      "            </option>\n",
      "           </select>\n",
      "          </input>\n",
      "         </td>\n",
      "        </tr>\n",
      "        <tr>\n",
      "         <th>\n",
      "          Période pédagogique\n",
      "         </th>\n",
      "         <td>\n",
      "          <input name=\"zz_x_PERIODE_PEDAGO\" type=\"hidden\" value=\"\">\n",
      "           <select name=\"ww_x_PERIODE_PEDAGO\" onchange=\"document.f.zz_x_PERIODE_PEDAGO.value=document.f.ww_x_PERIODE_PEDAGO.options[document.f.ww_x_PERIODE_PEDAGO.selectedIndex].text\">\n",
      "            <option value=\"null\">\n",
      "            </option>\n",
      "            <option value=\"249108\">\n",
      "             Bachelor semestre 1\n",
      "            </option>\n",
      "            <option value=\"249114\">\n",
      "             Bachelor semestre 2\n",
      "            </option>\n",
      "            <option value=\"942155\">\n",
      "             Bachelor semestre 3\n",
      "            </option>\n",
      "            <option value=\"942163\">\n",
      "             Bachelor semestre 4\n",
      "            </option>\n",
      "            <option value=\"942120\">\n",
      "             Bachelor semestre 5\n",
      "            </option>\n",
      "            <option value=\"2226768\">\n",
      "             Bachelor semestre 5b\n",
      "            </option>\n",
      "            <option value=\"942175\">\n",
      "             Bachelor semestre 6\n",
      "            </option>\n",
      "            <option value=\"2226785\">\n",
      "             Bachelor semestre 6b\n",
      "            </option>\n",
      "            <option value=\"2230106\">\n",
      "             Master semestre 1\n",
      "            </option>\n",
      "            <option value=\"942192\">\n",
      "             Master semestre 2\n",
      "            </option>\n",
      "            <option value=\"2230128\">\n",
      "             Master semestre 3\n",
      "            </option>\n",
      "            <option value=\"2230140\">\n",
      "             Master semestre 4\n",
      "            </option>\n",
      "            <option value=\"2335667\">\n",
      "             Mineur semestre 1\n",
      "            </option>\n",
      "            <option value=\"2335676\">\n",
      "             Mineur semestre 2\n",
      "            </option>\n",
      "            <option value=\"2063602308\">\n",
      "             Mise à niveau\n",
      "            </option>\n",
      "            <option value=\"249127\">\n",
      "             Projet Master automne\n",
      "            </option>\n",
      "            <option value=\"3781783\">\n",
      "             Projet Master printemps\n",
      "            </option>\n",
      "            <option value=\"953159\">\n",
      "             Semestre automne\n",
      "            </option>\n",
      "            <option value=\"2754553\">\n",
      "             Semestre printemps\n",
      "            </option>\n",
      "            <option value=\"953137\">\n",
      "             Stage automne 3ème année\n",
      "            </option>\n",
      "            <option value=\"2226616\">\n",
      "             Stage automne 4ème année\n",
      "            </option>\n",
      "            <option value=\"983606\">\n",
      "             Stage printemps 3ème année\n",
      "            </option>\n",
      "            <option value=\"2226626\">\n",
      "             Stage printemps 4ème année\n",
      "            </option>\n",
      "            <option value=\"2227132\">\n",
      "             Stage printemps master\n",
      "            </option>\n",
      "           </select>\n",
      "          </input>\n",
      "         </td>\n",
      "        </tr>\n",
      "        <tr>\n",
      "         <th>\n",
      "          Type de semestre\n",
      "         </th>\n",
      "         <td>\n",
      "          <input name=\"zz_x_HIVERETE\" type=\"hidden\" value=\"\">\n",
      "           <select name=\"ww_x_HIVERETE\" onchange=\"document.f.zz_x_HIVERETE.value=document.f.ww_x_HIVERETE.options[document.f.ww_x_HIVERETE.selectedIndex].text\">\n",
      "            <option value=\"null\">\n",
      "            </option>\n",
      "            <option value=\"2936286\">\n",
      "             Semestre d'automne\n",
      "            </option>\n",
      "            <option value=\"2936295\">\n",
      "             Semestre de printemps\n",
      "            </option>\n",
      "           </select>\n",
      "          </input>\n",
      "         </td>\n",
      "        </tr>\n",
      "       </table>\n",
      "       <input name=\"dummy\" type=\"submit\" value=\"ok\"/>\n",
      "      </input>\n",
      "     </input>\n",
      "    </input>\n",
      "   </form>\n",
      "   <script type=\"text/javascript\">\n",
      "    function loadReport(x) {\n",
      "    var querysup='';\n",
      "    writeRunning(top.principal);\n",
      "    for (i=0; document.f.elements.length > i; i++){\n",
      "     if (document.f.elements[i].checked){\n",
      "      querysup=querysup+'&'+document.f.elements[i].name+'='+document.f.elements[i].value;\n",
      "     }\n",
      "     if (document.f.elements[i].type=='select-one') {\n",
      "      querysup=querysup+'&'+document.f.elements[i].name+'='+document.f.elements[i].options[document.f.elements[i].selectedIndex].value;\n",
      "     }\n",
      "     if (document.f.elements[i].type=='text'){\n",
      "      querysup=querysup+'&'+document.f.elements[i].name+'='+document.f.elements[i].value;\n",
      "     }\n",
      "    }\n",
      "    parent.principal.location = \"!GEDPUBLICREPORTS.bhtml?\"+x+\"&ww_i_reportModel=133685247\"+querysup;\n",
      "    if (navigator.userAgent.toUpperCase().indexOf('SAFARI') != -1) {\n",
      "     document.location.reload();\n",
      "    }\n",
      "   }\n",
      "   </script>\n",
      "   <h1>\n",
      "   </h1>\n",
      "   <table border=\"0\">\n",
      "   </table>\n",
      "  </div>\n",
      " </body>\n",
      "</html>\n",
      "<!-- OpenXml:0.01s  agent ctrl:0.00s  xml:0.42s  xsl clob before parse:0.00s  xsl extr&stylesheet:0.00s  xsl clob before parse:0.00s  xsl after parsing:0.00s  xsl ctrl data:0.01s  transform 2:0.04s  xsl process:0.00s  -->\n",
      "\n"
     ]
    }
   ],
   "source": [
    "r = requests.get('http://isa.epfl.ch/imoniteur_ISAP/!GEDPUBLICREPORTS.filter?ww_i_reportModel=133685247')\n",
    "htmlContent = BeautifulSoup(r.content, 'html.parser')\n",
    "print(htmlContent.prettify())"
   ]
  },
  {
   "cell_type": "code",
   "execution_count": 30,
   "metadata": {
    "collapsed": false,
    "scrolled": true
   },
   "outputs": [
    {
     "data": {
      "text/plain": [
       "<option value=\"249847\">Informatique</option>"
      ]
     },
     "execution_count": 30,
     "metadata": {},
     "output_type": "execute_result"
    }
   ],
   "source": [
    "# We first get the \"Computer science\" value\n",
    "computerScienceField = htmlContent.find('option', text='Informatique')\n",
    "computerScienceField"
   ]
  },
  {
   "cell_type": "code",
   "execution_count": 31,
   "metadata": {
    "collapsed": false
   },
   "outputs": [
    {
     "data": {
      "text/plain": [
       "'249847'"
      ]
     },
     "execution_count": 31,
     "metadata": {},
     "output_type": "execute_result"
    }
   ],
   "source": [
    "computerScienceValue = computerScienceField.get('value')\n",
    "computerScienceValue"
   ]
  },
  {
   "cell_type": "code",
   "execution_count": 32,
   "metadata": {
    "collapsed": false
   },
   "outputs": [],
   "source": [
    "# Then, we're going to need all the academic years values.\n",
    "academicYearsField = htmlContent.find('select', attrs={'name':'ww_x_PERIODE_ACAD'})\n",
    "academicYearsSet = academicYearsField.findAll('option')\n",
    "\n",
    "# Since there are several years to remember, we're storing all of them in a table to use them later\n",
    "academicYearValues = []\n",
    "# We'll put the textual content in a table aswell (\"Master semestre 1\", \"Master semestre 2\"...)\n",
    "academicYearContent = []\n",
    "\n",
    "for option in academicYearsSet:\n",
    "    value = option.get('value')\n",
    "    # However, we don't want any \"null\" value\n",
    "    if value != 'null':\n",
    "        academicYearValues.append(value)\n",
    "        academicYearContent.append(option.text)"
   ]
  },
  {
   "cell_type": "code",
   "execution_count": 34,
   "metadata": {
    "collapsed": false
   },
   "outputs": [
    {
     "data": {
      "text/plain": [
       "355925344    2016-2017\n",
       "213638028    2015-2016\n",
       "213637922    2014-2015\n",
       "213637754    2013-2014\n",
       "123456101    2012-2013\n",
       "123455150    2011-2012\n",
       "39486325     2010-2011\n",
       "978195       2009-2010\n",
       "978187       2008-2009\n",
       "978181       2007-2008\n",
       "dtype: object"
      ]
     },
     "execution_count": 34,
     "metadata": {},
     "output_type": "execute_result"
    }
   ],
   "source": [
    "# Now, we have all the academic years that might interest us\n",
    "academicYear_Series = pd.Series(academicYearContent, index=academicYearValues)\n",
    "academicYear_Series"
   ]
  },
  {
   "cell_type": "code",
   "execution_count": 35,
   "metadata": {
    "collapsed": false
   },
   "outputs": [],
   "source": [
    "# Then, let's get all the pedagogic periods we need. It's a little bit more complicated here because we need to link the pedagogic period with a season (eg : Bachelor 1 is autumn, Bachelor 2 is spring etc.)\n",
    "# Thus, we need more than the pedagogic values. For doing some tests to associate them with the right season, we need the actual textual value (\"Bachelor semestre 1\", \"Bachelor semestre 2\" etc.)\n",
    "pedagogicPeriodsField = htmlContent.find('select', attrs={'name':'ww_x_PERIODE_PEDAGO'})\n",
    "pedagogicPeriodsSet = pedagogicPeriodsField.findAll('option')\n",
    "\n",
    "# Same as above, we'll store the values in a table\n",
    "pedagogicPeriodValues = []\n",
    "# We'll put the textual content in a table aswell (\"Master semestre 1\", \"Master semestre 2\"...)\n",
    "pedagogicPeriodContent = []\n",
    "\n",
    "for option in pedagogicPeriodsSet:\n",
    "    value = option.get('value')\n",
    "    if value != 'null':\n",
    "        pedagogicPeriodValues.append(value)\n",
    "        pedagogicPeriodContent.append(option.text)"
   ]
  },
  {
   "cell_type": "code",
   "execution_count": 36,
   "metadata": {
    "collapsed": false
   },
   "outputs": [
    {
     "data": {
      "text/plain": [
       "249108               Bachelor semestre 1\n",
       "249114               Bachelor semestre 2\n",
       "942155               Bachelor semestre 3\n",
       "942163               Bachelor semestre 4\n",
       "942120               Bachelor semestre 5\n",
       "2226768             Bachelor semestre 5b\n",
       "942175               Bachelor semestre 6\n",
       "2226785             Bachelor semestre 6b\n",
       "2230106                Master semestre 1\n",
       "942192                 Master semestre 2\n",
       "2230128                Master semestre 3\n",
       "2230140                Master semestre 4\n",
       "2335667                Mineur semestre 1\n",
       "2335676                Mineur semestre 2\n",
       "2063602308                 Mise à niveau\n",
       "249127             Projet Master automne\n",
       "3781783          Projet Master printemps\n",
       "953159                  Semestre automne\n",
       "2754553               Semestre printemps\n",
       "953137          Stage automne 3ème année\n",
       "2226616         Stage automne 4ème année\n",
       "983606        Stage printemps 3ème année\n",
       "2226626       Stage printemps 4ème année\n",
       "2227132           Stage printemps master\n",
       "dtype: object"
      ]
     },
     "execution_count": 36,
     "metadata": {},
     "output_type": "execute_result"
    }
   ],
   "source": [
    "# Let's make the values and content meet each other\n",
    "pedagogicPeriod_Series = pd.Series(pedagogicPeriodContent, index=pedagogicPeriodValues)\n",
    "pedagogicPeriod_Series"
   ]
  },
  {
   "cell_type": "code",
   "execution_count": 38,
   "metadata": {
    "collapsed": false
   },
   "outputs": [
    {
     "data": {
      "text/plain": [
       "249108      Bachelor semestre 1\n",
       "249114      Bachelor semestre 2\n",
       "942155      Bachelor semestre 3\n",
       "942163      Bachelor semestre 4\n",
       "942120      Bachelor semestre 5\n",
       "2226768    Bachelor semestre 5b\n",
       "942175      Bachelor semestre 6\n",
       "2226785    Bachelor semestre 6b\n",
       "dtype: object"
      ]
     },
     "execution_count": 38,
     "metadata": {},
     "output_type": "execute_result"
    }
   ],
   "source": [
    "# We keep all semesters related to Bachelor students\n",
    "bachelorPedagogicPeriod_Series = pedagogicPeriod_Series[[name.startswith('Bachelor') for name in pedagogicPeriod_Series]]\n",
    "bachelorPedagogicPeriod_Series"
   ]
  },
  {
   "cell_type": "code",
   "execution_count": 39,
   "metadata": {
    "collapsed": true
   },
   "outputs": [],
   "source": [
    "# Lastly, we need to extract the values associated with autumn and spring semesters.\n",
    "semesterTypeField = htmlContent.find('select', attrs={'name':'ww_x_HIVERETE'})\n",
    "semesterTypeSet = semesterTypeField.findAll('option')\n",
    "\n",
    "# Again, we need to store the values in a table\n",
    "semesterTypeValues = []\n",
    "# We'll put the textual content in a table aswell\n",
    "semesterTypeContent = []\n",
    "\n",
    "for option in semesterTypeSet:\n",
    "    value = option.get('value')\n",
    "    if value != 'null':\n",
    "        semesterTypeValues.append(value)\n",
    "        semesterTypeContent.append(option.text)"
   ]
  },
  {
   "cell_type": "code",
   "execution_count": 40,
   "metadata": {
    "collapsed": false
   },
   "outputs": [
    {
     "data": {
      "text/plain": [
       "2936286       Semestre d'automne\n",
       "2936295    Semestre de printemps\n",
       "dtype: object"
      ]
     },
     "execution_count": 40,
     "metadata": {},
     "output_type": "execute_result"
    }
   ],
   "source": [
    "# Here are the values for autumn and spring semester :\n",
    "semesterType_Series = pd.Series(semesterTypeContent, index=semesterTypeValues)\n",
    "semesterType_Series"
   ]
  },
  {
   "cell_type": "code",
   "execution_count": 42,
   "metadata": {
    "collapsed": true
   },
   "outputs": [],
   "source": [
    "# Choosing between html and xls\n",
    "formatField = htmlContent.find('select', attrs={'name':'ww_i_reportModelXsl'})"
   ]
  },
  {
   "cell_type": "code",
   "execution_count": null,
   "metadata": {
    "collapsed": true
   },
   "outputs": [],
   "source": []
  }
 ],
 "metadata": {
  "anaconda-cloud": {},
  "kernelspec": {
   "display_name": "Python [conda root]",
   "language": "python",
   "name": "conda-root-py"
  },
  "language_info": {
   "codemirror_mode": {
    "name": "ipython",
    "version": 3
   },
   "file_extension": ".py",
   "mimetype": "text/x-python",
   "name": "python",
   "nbconvert_exporter": "python",
   "pygments_lexer": "ipython3",
   "version": "3.5.2"
  }
 },
 "nbformat": 4,
 "nbformat_minor": 0
}
