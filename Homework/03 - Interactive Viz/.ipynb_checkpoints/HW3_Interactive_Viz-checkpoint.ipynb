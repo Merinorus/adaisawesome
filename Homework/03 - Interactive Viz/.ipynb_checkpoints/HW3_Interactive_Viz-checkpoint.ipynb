{
 "cells": [
  {
   "cell_type": "markdown",
   "metadata": {},
   "source": [
    "Build a Choropleth map which shows intuitively (i.e., use colors wisely) how much grant money goes to each Swiss canton.\n",
    "Good luck"
   ]
  }
 ],
 "metadata": {
  "kernelspec": {
   "display_name": "Python [Root]",
   "language": "python",
   "name": "Python [Root]"
  }
 },
 "nbformat": 4,
 "nbformat_minor": 0
}
